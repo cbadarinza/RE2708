{
 "cells": [
  {
   "cell_type": "markdown",
   "metadata": {
    "slideshow": {
     "slide_type": "slide"
    }
   },
   "source": [
    "<img align=left src=\"Data/NUSlogo.png\" width=125>\n",
    "<br><br>\n",
    "\n",
    "# RE2708 Lecture 1\n",
    "\n",
    "## Fundamentals of Python\n",
    "\n",
    "Dr. Cristian Badarinza"
   ]
  },
  {
   "cell_type": "markdown",
   "metadata": {
    "slideshow": {
     "slide_type": "slide"
    }
   },
   "source": [
    "## Table of Contents\n",
    "\n",
    "### Basic programming in Python\n",
    "\n",
    "1. Creating variables\n",
    "1. If-Else conditions\n",
    "1. Working with text\n",
    "1. Lists\n",
    "1. Dictionaries\n",
    "1. Loops\n",
    "1. Libraries"
   ]
  },
  {
   "cell_type": "markdown",
   "metadata": {
    "slideshow": {
     "slide_type": "slide"
    }
   },
   "source": [
    "## 1. Creating Variables\n",
    "\n",
    "Unlike other programming languages, Python has no command for declaring a variable.\n",
    "\n",
    "A variable is created the moment you first assign a value to it."
   ]
  },
  {
   "cell_type": "code",
   "execution_count": 6,
   "metadata": {
    "slideshow": {
     "slide_type": "-"
    }
   },
   "outputs": [
    {
     "name": "stdout",
     "output_type": "stream",
     "text": [
      "25\n",
      "John\n"
     ]
    }
   ],
   "source": [
    "x = 25\n",
    "print(x)\n",
    "y = \"John\"\n",
    "print(y)"
   ]
  },
  {
   "cell_type": "markdown",
   "metadata": {
    "slideshow": {
     "slide_type": "subslide"
    }
   },
   "source": [
    "Variables do **not** need to be declared with any particular type and can even change type after they have been set."
   ]
  },
  {
   "cell_type": "code",
   "execution_count": 7,
   "metadata": {},
   "outputs": [
    {
     "name": "stdout",
     "output_type": "stream",
     "text": [
      "Brian\n",
      "23\n"
     ]
    }
   ],
   "source": [
    "x = \"Brian\"\n",
    "print(x)\n",
    "x = 23\n",
    "print(x)"
   ]
  },
  {
   "cell_type": "markdown",
   "metadata": {
    "slideshow": {
     "slide_type": "subslide"
    }
   },
   "source": [
    "## Variable Names\n",
    "\n",
    "A variable can have a short name (like `x` and `y`) \n",
    "\n",
    "...or a more descriptive name (`age`,  `price2018`,  `total_volume`)."
   ]
  },
  {
   "cell_type": "markdown",
   "metadata": {
    "slideshow": {
     "slide_type": "subslide"
    }
   },
   "source": [
    "### Rules for Python variables:\n",
    "\n",
    "* Must start with a letter or the underscore character\n",
    "* Cannot start with a number\n",
    "* Can only contain alpha-numeric characters and underscores ( `A-z`, `0-9`, and `_` )\n",
    "* Variable names are case-sensitive (`age`, `Age` and `AGE` are three different variables)"
   ]
  },
  {
   "cell_type": "markdown",
   "metadata": {
    "slideshow": {
     "slide_type": "subslide"
    }
   },
   "source": [
    "## Displaying values\n",
    "\n",
    "The Python `print` statement is most often used to display the values of variables."
   ]
  },
  {
   "cell_type": "code",
   "execution_count": 8,
   "metadata": {},
   "outputs": [
    {
     "name": "stdout",
     "output_type": "stream",
     "text": [
      "Python is great\n"
     ]
    }
   ],
   "source": [
    "x = 'great'\n",
    "print('Python is ' + x)"
   ]
  },
  {
   "cell_type": "markdown",
   "metadata": {
    "slideshow": {
     "slide_type": "subslide"
    }
   },
   "source": [
    "Note that for numbers, the + character works as a mathematical operator:"
   ]
  },
  {
   "cell_type": "code",
   "execution_count": 9,
   "metadata": {},
   "outputs": [
    {
     "name": "stdout",
     "output_type": "stream",
     "text": [
      "15\n"
     ]
    }
   ],
   "source": [
    "x = 5\n",
    "y = 10\n",
    "print(x + y)"
   ]
  },
  {
   "cell_type": "markdown",
   "metadata": {
    "slideshow": {
     "slide_type": "subslide"
    }
   },
   "source": [
    "... But if you try to combine a string and a number, Python will give you an error:"
   ]
  },
  {
   "cell_type": "code",
   "execution_count": 10,
   "metadata": {},
   "outputs": [
    {
     "ename": "TypeError",
     "evalue": "must be str, not int",
     "output_type": "error",
     "traceback": [
      "\u001b[0;31m---------------------------------------------------------------------------\u001b[0m",
      "\u001b[0;31mTypeError\u001b[0m                                 Traceback (most recent call last)",
      "\u001b[0;32m<ipython-input-10-01e64bd6465f>\u001b[0m in \u001b[0;36m<module>\u001b[0;34m()\u001b[0m\n\u001b[1;32m      1\u001b[0m \u001b[0mx\u001b[0m \u001b[0;34m=\u001b[0m \u001b[0;34m\"John's age: \"\u001b[0m\u001b[0;34m\u001b[0m\u001b[0m\n\u001b[1;32m      2\u001b[0m \u001b[0my\u001b[0m \u001b[0;34m=\u001b[0m \u001b[0;36m25\u001b[0m\u001b[0;34m\u001b[0m\u001b[0m\n\u001b[0;32m----> 3\u001b[0;31m \u001b[0mprint\u001b[0m\u001b[0;34m(\u001b[0m\u001b[0mx\u001b[0m \u001b[0;34m+\u001b[0m \u001b[0my\u001b[0m\u001b[0;34m)\u001b[0m\u001b[0;34m\u001b[0m\u001b[0m\n\u001b[0m",
      "\u001b[0;31mTypeError\u001b[0m: must be str, not int"
     ]
    }
   ],
   "source": [
    "x = \"John's age: \"\n",
    "y = 25\n",
    "print(x + y)"
   ]
  },
  {
   "cell_type": "markdown",
   "metadata": {
    "slideshow": {
     "slide_type": "subslide"
    }
   },
   "source": [
    "## Changing variable types\n",
    "\n",
    "There may be times when you want to adjust the type of a variable: \n",
    "\n",
    "* Integer value : `int()`\n",
    "* Real number: `float()`\n",
    "* String/Text: `str()`"
   ]
  },
  {
   "cell_type": "markdown",
   "metadata": {
    "slideshow": {
     "slide_type": "subslide"
    }
   },
   "source": [
    "Now we can correct the code that was not running before:"
   ]
  },
  {
   "cell_type": "code",
   "execution_count": 31,
   "metadata": {},
   "outputs": [
    {
     "name": "stdout",
     "output_type": "stream",
     "text": [
      "John's age is: 25\n"
     ]
    }
   ],
   "source": [
    "x = \"John's age is: \"\n",
    "y = 25\n",
    "print(x + str(y))"
   ]
  },
  {
   "cell_type": "markdown",
   "metadata": {
    "slideshow": {
     "slide_type": "slide"
    }
   },
   "source": [
    "## 2. If-Else conditions"
   ]
  },
  {
   "cell_type": "markdown",
   "metadata": {
    "slideshow": {
     "slide_type": "-"
    }
   },
   "source": [
    "Let's write a simple program to check whether today's temperature is above a comfortable level of 30°C:"
   ]
  },
  {
   "cell_type": "code",
   "execution_count": 36,
   "metadata": {},
   "outputs": [
    {
     "name": "stdout",
     "output_type": "stream",
     "text": [
      "Today's temperature is 21°C. Nothing special. Business as usual...\n"
     ]
    }
   ],
   "source": [
    "t = 21\n",
    "\n",
    "if t>30:\n",
    "    print(\"Today's temperature is \" + str(t) + \"°C. It's way too hot!\")\n",
    "    print(\"Today's temperature is \" + str(t) + \"°C. It's way too hot!\")\n",
    "    print(\"Today's temperature is \" + str(t) + \"°C. It's way too hot!\")\n",
    "else:\n",
    "    print(\"Today's temperature is \" + str(t) + \"°C. Nothing special. Business as usual...\")\n",
    "    "
   ]
  },
  {
   "cell_type": "markdown",
   "metadata": {
    "slideshow": {
     "slide_type": "subslide"
    }
   },
   "source": [
    "### Code indentation\n",
    "\n",
    "Did you notice anything particular about the code above? How about the **indentation** of the code itself? Let's try again and see what happens if we remove the indentation."
   ]
  },
  {
   "cell_type": "code",
   "execution_count": 38,
   "metadata": {
    "slideshow": {
     "slide_type": "-"
    }
   },
   "outputs": [
    {
     "name": "stdout",
     "output_type": "stream",
     "text": [
      "Today's temperature is 31C. It's way too hot!\n"
     ]
    }
   ],
   "source": [
    "t = 31\n",
    "\n",
    "if t>30:\n",
    "    print(\"Today's temperature is \" + str(t) + \"C. It's way too hot!\")\n",
    "else:\n",
    "    print(\"Today's temperature is \" + str(t) + \"C. Nothing special. Business as usual...\")\n",
    "    "
   ]
  },
  {
   "cell_type": "markdown",
   "metadata": {
    "slideshow": {
     "slide_type": "slide"
    }
   },
   "source": [
    "## 3. Working with Strings in Python\n",
    "\n",
    "String variable values in python are surrounded by either single quotation marks, or double quotation marks.\n",
    "\n",
    "`'Hello, World!'` is the same as `\"Hello, World!\"`.\n",
    "\n",
    "Strings can be output to screen using the print function. For example: `print(\"Hello, World!\")`."
   ]
  },
  {
   "cell_type": "code",
   "execution_count": 14,
   "metadata": {
    "slideshow": {
     "slide_type": "-"
    }
   },
   "outputs": [
    {
     "name": "stdout",
     "output_type": "stream",
     "text": [
      "Hello, World!\n"
     ]
    }
   ],
   "source": [
    "print(\"Hello, World!\")"
   ]
  },
  {
   "cell_type": "markdown",
   "metadata": {
    "slideshow": {
     "slide_type": "subslide"
    }
   },
   "source": [
    "Square brackets can be used to access elements of the string. For example, to get the character in position 4, we write: *(Note that the first character has a position index of 0)*"
   ]
  },
  {
   "cell_type": "code",
   "execution_count": 15,
   "metadata": {
    "slideshow": {
     "slide_type": "-"
    }
   },
   "outputs": [
    {
     "name": "stdout",
     "output_type": "stream",
     "text": [
      "H\n",
      "o\n"
     ]
    }
   ],
   "source": [
    "s = 'Hello, World!'\n",
    "print(s[0])\n",
    "print(s[4])"
   ]
  },
  {
   "cell_type": "markdown",
   "metadata": {
    "slideshow": {
     "slide_type": "subslide"
    }
   },
   "source": [
    "The `lower()` method returns the string in lower case:"
   ]
  },
  {
   "cell_type": "code",
   "execution_count": 39,
   "metadata": {
    "slideshow": {
     "slide_type": "-"
    }
   },
   "outputs": [
    {
     "name": "stdout",
     "output_type": "stream",
     "text": [
      "hello, world!\n"
     ]
    }
   ],
   "source": [
    "s = 'Hello, World!'\n",
    "print(s.lower())"
   ]
  },
  {
   "cell_type": "markdown",
   "metadata": {
    "slideshow": {
     "slide_type": "subslide"
    }
   },
   "source": [
    "The `upper()` method returns the string in upper case:"
   ]
  },
  {
   "cell_type": "code",
   "execution_count": 40,
   "metadata": {},
   "outputs": [
    {
     "name": "stdout",
     "output_type": "stream",
     "text": [
      "HELLO, WORLD!\n"
     ]
    }
   ],
   "source": [
    "s = 'Hello, World!'\n",
    "print(s.upper())"
   ]
  },
  {
   "cell_type": "markdown",
   "metadata": {
    "slideshow": {
     "slide_type": "subslide"
    }
   },
   "source": [
    "The `replace()` method replaces a string with another string:"
   ]
  },
  {
   "cell_type": "code",
   "execution_count": 41,
   "metadata": {},
   "outputs": [
    {
     "name": "stdout",
     "output_type": "stream",
     "text": [
      "Jello, World!\n"
     ]
    }
   ],
   "source": [
    "s = 'Hello, World!'\n",
    "print(s.replace(\"H\", \"J\"))"
   ]
  },
  {
   "cell_type": "markdown",
   "metadata": {
    "slideshow": {
     "slide_type": "subslide"
    }
   },
   "source": [
    "The `split()` method splits the string into substrings if it finds instances of the separator:"
   ]
  },
  {
   "cell_type": "code",
   "execution_count": 42,
   "metadata": {},
   "outputs": [
    {
     "name": "stdout",
     "output_type": "stream",
     "text": [
      "['Hello', ' World!']\n"
     ]
    }
   ],
   "source": [
    "s = 'Hello, World!'\n",
    "print(s.split(\",\"))"
   ]
  },
  {
   "cell_type": "markdown",
   "metadata": {
    "slideshow": {
     "slide_type": "slide"
    }
   },
   "source": [
    "## 4. Lists"
   ]
  },
  {
   "cell_type": "markdown",
   "metadata": {
    "slideshow": {
     "slide_type": "-"
    }
   },
   "source": [
    "In Python, a **list** is a collection of ordered objects. Lists are written with square brackets.\n",
    "\n",
    "Note that the index of the first element in the list is `[0]`. For example:"
   ]
  },
  {
   "cell_type": "code",
   "execution_count": 20,
   "metadata": {
    "slideshow": {
     "slide_type": "-"
    }
   },
   "outputs": [
    {
     "name": "stdout",
     "output_type": "stream",
     "text": [
      "This year's winner of the big prize is: Caroline\n"
     ]
    }
   ],
   "source": [
    "students = [\"Anne\", \"David\", \"Brian\", \"Caroline\"]\n",
    "print(\"This year's winner of the big prize is: \" + students[3])"
   ]
  },
  {
   "cell_type": "markdown",
   "metadata": {
    "slideshow": {
     "slide_type": "subslide"
    }
   },
   "source": [
    "You can easily change an element of the list when needed:"
   ]
  },
  {
   "cell_type": "code",
   "execution_count": 21,
   "metadata": {
    "slideshow": {
     "slide_type": "-"
    }
   },
   "outputs": [
    {
     "name": "stdout",
     "output_type": "stream",
     "text": [
      "['Anne', 'David', 'Brian', 'Vanessa']\n"
     ]
    }
   ],
   "source": [
    "students[3] = \"Vanessa\"\n",
    "print(students)"
   ]
  },
  {
   "cell_type": "markdown",
   "metadata": {
    "slideshow": {
     "slide_type": "subslide"
    }
   },
   "source": [
    "**Lists** are very flexible. You can combine strings with numbers:"
   ]
  },
  {
   "cell_type": "code",
   "execution_count": 48,
   "metadata": {},
   "outputs": [
    {
     "name": "stdout",
     "output_type": "stream",
     "text": [
      "A\n"
     ]
    }
   ],
   "source": [
    "randomlist = [\"A\",1,10,\"F\",8,\"C\",7.2]\n",
    "print(randomlist[0])"
   ]
  },
  {
   "cell_type": "markdown",
   "metadata": {
    "slideshow": {
     "slide_type": "subslide"
    }
   },
   "source": [
    "... and you can even put a list within a list:"
   ]
  },
  {
   "cell_type": "code",
   "execution_count": 50,
   "metadata": {},
   "outputs": [
    {
     "name": "stdout",
     "output_type": "stream",
     "text": [
      "My phone is a Xiaomi\n",
      "It costs $900\n"
     ]
    }
   ],
   "source": [
    "mylist = [[\"Apple\",\"Samsung\",\"Huawei\",\"Xiaomi\"], [950, 850, 700, 900]]\n",
    "print(\"My phone is a \" + mylist[0][3])\n",
    "print(\"It costs $\" + str(mylist[1][3]))"
   ]
  },
  {
   "cell_type": "code",
   "execution_count": 55,
   "metadata": {},
   "outputs": [
    {
     "name": "stdout",
     "output_type": "stream",
     "text": [
      "Apple\n"
     ]
    }
   ],
   "source": [
    "print(mylist[0][0])"
   ]
  },
  {
   "cell_type": "markdown",
   "metadata": {
    "slideshow": {
     "slide_type": "slide"
    }
   },
   "source": [
    "## 5. Dictionaries"
   ]
  },
  {
   "cell_type": "markdown",
   "metadata": {},
   "source": [
    "In addition to lists, Python also allows us to define a much more advanced data type, called a **DICTIONARY**, where don't need to use numbers as indexes, but we can use proper text labels:"
   ]
  },
  {
   "cell_type": "code",
   "execution_count": 56,
   "metadata": {},
   "outputs": [
    {
     "name": "stdout",
     "output_type": "stream",
     "text": [
      "['West', 'South']\n"
     ]
    }
   ],
   "source": [
    "regions = {\n",
    "    \"Clementi\": [\"West\",\"South\"],\n",
    "    \"Jurong\": \"West\",\n",
    "    \"Orchard\": \"Central\",\n",
    "    \"Changi\": \"East\",\n",
    "    \"Tampines\": \"East\",\n",
    "    \"Woodlands\": \"North\",\n",
    "    \"Punggol\": \"North\"\n",
    "}\n",
    "print(regions[\"Clementi\"])"
   ]
  },
  {
   "cell_type": "markdown",
   "metadata": {
    "slideshow": {
     "slide_type": "subslide"
    }
   },
   "source": [
    "This makes it very easy to define for example a list of prices, without the need to remember the exact position of an item:"
   ]
  },
  {
   "cell_type": "code",
   "execution_count": 62,
   "metadata": {},
   "outputs": [
    {
     "name": "stdout",
     "output_type": "stream",
     "text": [
      "['G9', 'G8', 'etc']\n"
     ]
    }
   ],
   "source": [
    "mylist = {\n",
    "    \"Apple\": [1,2,3,4,5,6,7,7,6,7,8],\n",
    "    \"Samsung\": [\"G9\",\"G8\",\"etc\"],\n",
    "    \"Huawei\": 700,\n",
    "    \"Xiaomi\": 900,\n",
    "}\n",
    "print(mylist[\"Samsung\"])"
   ]
  },
  {
   "cell_type": "markdown",
   "metadata": {
    "slideshow": {
     "slide_type": "slide"
    }
   },
   "source": [
    "## 6. Loops"
   ]
  },
  {
   "cell_type": "markdown",
   "metadata": {},
   "source": [
    "Now that we have understood lists and dictionaries, running thrugh a loop in Python is easy:"
   ]
  },
  {
   "cell_type": "code",
   "execution_count": 65,
   "metadata": {},
   "outputs": [
    {
     "name": "stdout",
     "output_type": "stream",
     "text": [
      "A\n",
      "Ab\n",
      "Abc\n",
      "D\n"
     ]
    }
   ],
   "source": [
    "for x in [\"A\",\"Ab\",\"Abc\",\"D\"]:\n",
    "    print(x)"
   ]
  },
  {
   "cell_type": "markdown",
   "metadata": {
    "slideshow": {
     "slide_type": "subslide"
    }
   },
   "source": [
    "Here is one more complicated example, looping through a dictionary:"
   ]
  },
  {
   "cell_type": "code",
   "execution_count": 69,
   "metadata": {
    "slideshow": {
     "slide_type": "-"
    }
   },
   "outputs": [
    {
     "name": "stdout",
     "output_type": "stream",
     "text": [
      "iPhone X\n",
      "iPhone XS\n",
      "iPad Air\n"
     ]
    }
   ],
   "source": [
    "mylist = {\n",
    "    \"Samsung\": [\"Galaxy\"],\n",
    "    \"Huawei\": [\"Y6\",\"P9\"], \n",
    "    \"Apple\": [\"iPhone X\",\"iPhone XS\",\"iPad Air\"], \n",
    "    \"Xiaomi\": [\"Redmi 6A\",\"Mi Note\"],\n",
    "}\n",
    "\n",
    "for x in mylist[\"Apple\"]:\n",
    "  print(x)"
   ]
  },
  {
   "cell_type": "markdown",
   "metadata": {
    "slideshow": {
     "slide_type": "slide"
    }
   },
   "source": [
    "## 7. Libraries\n",
    "\n",
    "Beyond the basic functionality described above, in Python, all tools are provided in so-called libraries."
   ]
  },
  {
   "cell_type": "code",
   "execution_count": 28,
   "metadata": {},
   "outputs": [],
   "source": [
    "import numpy\n",
    "import pandas\n",
    "import matplotlib\n",
    "import statsmodels\n",
    "import requests\n",
    "import geopandas"
   ]
  },
  {
   "cell_type": "markdown",
   "metadata": {
    "slideshow": {
     "slide_type": "-"
    }
   },
   "source": [
    "<img style=\"float: left;display:block\" width=150cm src=\"numpy.png\">\n",
    "<img width=130cm src=\"pandas.png\" style=\"float: left;display:block\">\n",
    "<img style=\"float: left;display:block\" width=300cm src=\"matplotlib.png\">\n",
    "<img style=\"float: left;display:block\" width=75cm src=\"requests.png\">\n",
    "<img style=\"float: left;display:block\" width=175cm src=\"geopandas.png\">"
   ]
  },
  {
   "cell_type": "markdown",
   "metadata": {
    "slideshow": {
     "slide_type": "slide"
    }
   },
   "source": [
    "### THE END"
   ]
  }
 ],
 "metadata": {
  "celltoolbar": "Slideshow",
  "kernelspec": {
   "display_name": "Python 3",
   "language": "python",
   "name": "python3"
  },
  "language_info": {
   "codemirror_mode": {
    "name": "ipython",
    "version": 3
   },
   "file_extension": ".py",
   "mimetype": "text/x-python",
   "name": "python",
   "nbconvert_exporter": "python",
   "pygments_lexer": "ipython3",
   "version": "3.6.5"
  },
  "rise": {
   "help": "false"
  }
 },
 "nbformat": 4,
 "nbformat_minor": 2
}
