{
 "cells": [
  {
   "cell_type": "markdown",
   "metadata": {
    "slideshow": {
     "slide_type": "slide"
    }
   },
   "source": [
    "<img align=left src=\"http://www.nus.edu.sg/templates/t3_nus2015/images/assets/logos/logo.png\" width=125>\n",
    "<br><br>\n",
    "# RE2708 Lecture 3\n",
    "\n",
    "## The MATPLOTLIB Module: Plotting graphs\n",
    "\n",
    "Dr. Cristian Badarinza"
   ]
  },
  {
   "cell_type": "markdown",
   "metadata": {
    "slideshow": {
     "slide_type": "slide"
    }
   },
   "source": [
    "## Structure of this Lecture\n",
    "\n",
    "- First part (1 hour): **Learning**\n",
    "\n",
    "- Second part (30 minutes): **Reviewing** and **Debugging**"
   ]
  },
  {
   "cell_type": "markdown",
   "metadata": {
    "slideshow": {
     "slide_type": "slide"
    }
   },
   "source": [
    "## Table of Contents\n",
    "\n",
    "### Working with data\n",
    "\n",
    "1. Loading the libaries and the data\n",
    "1. The life cycle of a plot\n",
    "    * The `figure` canvas\n",
    "    * Line styles and colors\n",
    "    * Legends\n",
    "    * Titles and axis labels\n",
    "    * Annotations\n",
    "    * Exporting the figure\n",
    "1. Applications"
   ]
  },
  {
   "cell_type": "markdown",
   "metadata": {
    "slideshow": {
     "slide_type": "slide"
    }
   },
   "source": [
    "## 1. Loading the libraries and the data"
   ]
  },
  {
   "cell_type": "code",
   "execution_count": null,
   "metadata": {},
   "outputs": [],
   "source": [
    "import pandas as pd\n",
    "import matplotlib.pyplot as plt\n",
    "%matplotlib inline\n",
    "%config InlineBackend.close_figures=False"
   ]
  },
  {
   "cell_type": "code",
   "execution_count": null,
   "metadata": {
    "slideshow": {
     "slide_type": "-"
    }
   },
   "outputs": [],
   "source": [
    "df = pd.read_csv('Data/S-REIT Stock Prices.csv',parse_dates=['Month'])"
   ]
  },
  {
   "cell_type": "markdown",
   "metadata": {},
   "source": [
    "**Note** that we have used the option `parse_dates` to make sure that Python reads the dates properly."
   ]
  },
  {
   "cell_type": "markdown",
   "metadata": {
    "slideshow": {
     "slide_type": "subslide"
    }
   },
   "source": [
    "How does the data look like?"
   ]
  },
  {
   "cell_type": "code",
   "execution_count": null,
   "metadata": {},
   "outputs": [],
   "source": [
    "df.head()"
   ]
  },
  {
   "cell_type": "markdown",
   "metadata": {
    "slideshow": {
     "slide_type": "subslide"
    }
   },
   "source": [
    "#### Getting started\n",
    "\n",
    "Here is a simple plot of REIT stock price data."
   ]
  },
  {
   "cell_type": "code",
   "execution_count": null,
   "metadata": {
    "slideshow": {
     "slide_type": "-"
    }
   },
   "outputs": [],
   "source": [
    "plt.plot(df['Month'],df['Parkway Life'])\n",
    "plt.plot(df['Month'],df['CapitaLand Commercial Trust'])\n",
    "plt.plot(df['Month'],df['Suntec REIT'])\n",
    "plt.plot(df['Month'],df['Mapletree Industrial Trust'])\n",
    "plt.show()"
   ]
  },
  {
   "cell_type": "markdown",
   "metadata": {},
   "source": [
    "Is it a nice plot? Is anything missing?"
   ]
  },
  {
   "cell_type": "markdown",
   "metadata": {
    "slideshow": {
     "slide_type": "slide"
    }
   },
   "source": [
    "## 2. The life cycle of a plot\n",
    "\n",
    "* The plot canvas\n",
    "* Line styles and colors\n",
    "* Legends\n",
    "* Titles and axis labels\n",
    "* Annotations\n",
    "* Exporting the figure"
   ]
  },
  {
   "cell_type": "markdown",
   "metadata": {
    "slideshow": {
     "slide_type": "subslide"
    }
   },
   "source": [
    "### The plot canvas"
   ]
  },
  {
   "cell_type": "code",
   "execution_count": null,
   "metadata": {
    "slideshow": {
     "slide_type": "-"
    }
   },
   "outputs": [],
   "source": [
    "fig, ax = plt.subplots(1,1)"
   ]
  },
  {
   "cell_type": "markdown",
   "metadata": {
    "slideshow": {
     "slide_type": "subslide"
    }
   },
   "source": [
    "### Line styles and colors"
   ]
  },
  {
   "cell_type": "code",
   "execution_count": null,
   "metadata": {
    "slideshow": {
     "slide_type": "-"
    }
   },
   "outputs": [],
   "source": [
    "plt.plot(df['Month'],df['Parkway Life'], linestyle='dotted', color=(.1,.2,.5))\n",
    "plt.plot(df['Month'],df['CapitaLand Commercial Trust'], linestyle='solid', color=(.3,.7,.3))\n",
    "plt.plot(df['Month'],df['Suntec REIT'],linestyle='solid', color=(1,.4,.2))\n",
    "plt.plot(df['Month'],df['Mapletree Industrial Trust'], linestyle='solid', color=(.1,.2,.5), linewidth=2)\n",
    "fig"
   ]
  },
  {
   "cell_type": "markdown",
   "metadata": {},
   "source": [
    "**Note** that colors are given in sets of three numbers between 0 and 1: `(Red, Green, Blue)`\n",
    "\n",
    "For example: *Red* = (1,0,0), *Black* = (0,0,0), *White* = (1,1,1), *Light gray* = (.9,.9,.9)"
   ]
  },
  {
   "cell_type": "markdown",
   "metadata": {
    "slideshow": {
     "slide_type": "subslide"
    }
   },
   "source": [
    "### Legends"
   ]
  },
  {
   "cell_type": "code",
   "execution_count": null,
   "metadata": {},
   "outputs": [],
   "source": [
    "plt.legend(['CapitaLand Commercial Trust','Suntec REIT','Parkway Life','Mapletree Industrial Trust'],loc='best')\n",
    "fig"
   ]
  },
  {
   "cell_type": "markdown",
   "metadata": {
    "slideshow": {
     "slide_type": "subslide"
    }
   },
   "source": [
    "### Titles and axis labels"
   ]
  },
  {
   "cell_type": "code",
   "execution_count": null,
   "metadata": {},
   "outputs": [],
   "source": [
    "plt.title('Figure 1:\\n Evolution of S-REIT stock prices')\n",
    "plt.xlabel('Transaction date (Monthly)')\n",
    "plt.ylabel('Stock price (S$)')\n",
    "fig"
   ]
  },
  {
   "cell_type": "markdown",
   "metadata": {
    "slideshow": {
     "slide_type": "subslide"
    }
   },
   "source": [
    "### Grids"
   ]
  },
  {
   "cell_type": "code",
   "execution_count": null,
   "metadata": {},
   "outputs": [],
   "source": [
    "plt.grid(color=(.9,.9,.9))\n",
    "fig"
   ]
  },
  {
   "cell_type": "markdown",
   "metadata": {
    "slideshow": {
     "slide_type": "subslide"
    }
   },
   "source": [
    "### Annotations"
   ]
  },
  {
   "cell_type": "code",
   "execution_count": null,
   "metadata": {},
   "outputs": [],
   "source": [
    "ax.annotate('\"Flash crash\" of October 2013', xycoords='figure fraction', \n",
    "            xy=(.39, .245), xytext=(.425, .155), arrowprops={'width':4})\n",
    "fig"
   ]
  },
  {
   "cell_type": "markdown",
   "metadata": {},
   "source": [
    "**Note** the option `xycoords='figure fraction'`. This means that we indicate the coordinates as fractions of the figure's width and height."
   ]
  },
  {
   "cell_type": "markdown",
   "metadata": {
    "slideshow": {
     "slide_type": "subslide"
    }
   },
   "source": [
    "### Exporting the figure"
   ]
  },
  {
   "cell_type": "code",
   "execution_count": null,
   "metadata": {},
   "outputs": [],
   "source": [
    "fig.savefig('Figure REITs.png')"
   ]
  },
  {
   "cell_type": "markdown",
   "metadata": {
    "slideshow": {
     "slide_type": "slide"
    }
   },
   "source": [
    "# Applications\n",
    "\n",
    "* Figure 1: **Pie Chart** (Frequency of transactions by HDB town)\n",
    "* Figure 2: **Bar Chart** (Average HDB resale prices by region)\n",
    "* Figure 3: **Line Chart** with markers (HDB resale prices by month)\n",
    "* Figure 4: **Scatter plot** (Prices and floor area)"
   ]
  },
  {
   "cell_type": "markdown",
   "metadata": {
    "slideshow": {
     "slide_type": "subslide"
    }
   },
   "source": [
    "### Loading the data\n",
    "\n",
    "Let's load a data set that we are familiar with from Lecture 2.\n",
    "\n",
    "Exactly as in Lecture 2, we first need to clean it (using the `dropna` and `loc` functions), and to merge it with the data on regions."
   ]
  },
  {
   "cell_type": "code",
   "execution_count": null,
   "metadata": {},
   "outputs": [],
   "source": [
    "df = pd.read_csv('Data/hdb-transactions-2018.csv')\n",
    "df = df.dropna()\n",
    "df = df.loc[df['resale_price']>0]\n",
    "dreg = pd.read_csv('Data/regions.csv')\n",
    "df = pd.merge(df, dreg, on='town')"
   ]
  },
  {
   "cell_type": "markdown",
   "metadata": {
    "slideshow": {
     "slide_type": "subslide"
    }
   },
   "source": [
    "### Figure 1: **Frequency of transactions by HDB town**"
   ]
  },
  {
   "cell_type": "markdown",
   "metadata": {
    "slideshow": {
     "slide_type": "notes"
    }
   },
   "source": [
    "We start by using the function `groupby` to find the number of transactions for each HDB town, and then plot the pie chart using the function `pie`:"
   ]
  },
  {
   "cell_type": "code",
   "execution_count": null,
   "metadata": {},
   "outputs": [],
   "source": [
    "fig, ax = plt.subplots(1,1)\n",
    "dg = df.groupby('town').count()\n",
    "\n",
    "plt.pie(dg['resale_price'],autopct='%.1f',labels=dg.index)\n",
    "\n",
    "plt.title('Figure 1:\\n Frequency of transactions by HDB town (%)')\n",
    "plt.grid(color=(.9,.9,.9))\n",
    "fig.savefig('Figure 1.png')"
   ]
  },
  {
   "cell_type": "markdown",
   "metadata": {
    "slideshow": {
     "slide_type": "subslide"
    }
   },
   "source": [
    "### Figure 2: **Average HDB resale prices by region**"
   ]
  },
  {
   "cell_type": "markdown",
   "metadata": {
    "slideshow": {
     "slide_type": "notes"
    }
   },
   "source": [
    "We start by using the function `groupby` to find the average price for each region, and then plot the bar chart using the function `bar`:"
   ]
  },
  {
   "cell_type": "code",
   "execution_count": null,
   "metadata": {},
   "outputs": [],
   "source": [
    "fig, ax = plt.subplots(1,1)\n",
    "dg = df.groupby('region').mean()\n",
    "\n",
    "plt.bar(dg.index,dg['resale_price'],width=.3,color=(.15,.5,.45),edgecolor=(.2,.2,.3),linewidth=2)\n",
    "\n",
    "plt.title('Figure 2:\\n Average HDB resale prices by region')\n",
    "plt.xlabel('Regions of Singapore')\n",
    "plt.ylabel('Average transaction price (S$)')\n",
    "plt.grid(color=(.9,.9,.9))\n",
    "fig.savefig('Figure 2.png')"
   ]
  },
  {
   "cell_type": "markdown",
   "metadata": {
    "slideshow": {
     "slide_type": "subslide"
    }
   },
   "source": [
    "### Figure 3: **HDB resale prices by month**"
   ]
  },
  {
   "cell_type": "markdown",
   "metadata": {
    "slideshow": {
     "slide_type": "notes"
    }
   },
   "source": [
    "We start by using the function `groupby` to find the average price in each month, and then plot the line chart using the function `plot` as before, with the additional option `marker`:"
   ]
  },
  {
   "cell_type": "code",
   "execution_count": null,
   "metadata": {},
   "outputs": [],
   "source": [
    "fig, ax = plt.subplots(1,1,figsize=(7,3.65))\n",
    "dt = df.groupby('month').mean()\n",
    "\n",
    "plt.plot(dt.index,dt['resale_price'],linestyle='dashed',marker='o',markersize=6)\n",
    "\n",
    "plt.title('Figure 3:\\n HDB resale prices by month')\n",
    "plt.xlabel('Transaction date (Monthly)')\n",
    "plt.ylabel('Average transaction price (S$)')\n",
    "plt.grid(color=(.9,.9,.9))\n",
    "fig.savefig('Figure 3.png')"
   ]
  },
  {
   "cell_type": "markdown",
   "metadata": {
    "slideshow": {
     "slide_type": "subslide"
    }
   },
   "source": [
    "### Figure 4: **Scatter plot of prices and floor area**"
   ]
  },
  {
   "cell_type": "markdown",
   "metadata": {
    "slideshow": {
     "slide_type": "notes"
    }
   },
   "source": [
    "We use the function `scatter` to plot a scatter plot:"
   ]
  },
  {
   "cell_type": "code",
   "execution_count": null,
   "metadata": {},
   "outputs": [],
   "source": [
    "fig, ax = plt.subplots(1,1)\n",
    "\n",
    "plt.scatter(df['resale_price'],df['floor_area_sqm'],color=(.3,.35,.45))\n",
    "\n",
    "plt.title('Figure 4:\\n Scatter plot of prices and floor area')\n",
    "plt.xlabel('HDB resale price (S$)')\n",
    "plt.ylabel('Floor area (square meters)')\n",
    "plt.grid(color=(.9,.9,.9))\n",
    "fig.savefig('Figure 4.png')"
   ]
  },
  {
   "cell_type": "markdown",
   "metadata": {
    "slideshow": {
     "slide_type": "slide"
    }
   },
   "source": [
    "### THE END"
   ]
  }
 ],
 "metadata": {
  "celltoolbar": "Slideshow",
  "kernelspec": {
   "display_name": "Python 3",
   "language": "python",
   "name": "python3"
  },
  "language_info": {
   "codemirror_mode": {
    "name": "ipython",
    "version": 3
   },
   "file_extension": ".py",
   "mimetype": "text/x-python",
   "name": "python",
   "nbconvert_exporter": "python",
   "pygments_lexer": "ipython3",
   "version": "3.6.5"
  }
 },
 "nbformat": 4,
 "nbformat_minor": 2
}
