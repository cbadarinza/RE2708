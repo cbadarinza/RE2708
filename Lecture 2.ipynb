{
 "cells": [
  {
   "cell_type": "markdown",
   "metadata": {
    "slideshow": {
     "slide_type": "slide"
    }
   },
   "source": [
    "<img align=left src=\"http://www.nus.edu.sg/templates/t3_nus2015/images/assets/logos/logo.png\" width=125>\n",
    "<br><br>\n",
    "# RE2708 Lecture 2\n",
    "\n",
    "## The PANDAS Module: Working with data\n",
    "\n",
    "Dr. Cristian Badarinza"
   ]
  },
  {
   "cell_type": "markdown",
   "metadata": {
    "slideshow": {
     "slide_type": "slide"
    }
   },
   "source": [
    "## Structure of this Lecture\n",
    "\n",
    "- First part (1 hour): **Learning**\n",
    "\n",
    "- Second part (30 minutes): **Reviewing** and **Debugging**"
   ]
  },
  {
   "cell_type": "markdown",
   "metadata": {
    "slideshow": {
     "slide_type": "slide"
    }
   },
   "source": [
    "## Table of Contents\n",
    "\n",
    "### Working with data\n",
    "\n",
    "1. Loading the library\n",
    "1. Reading data from a CSV file\n",
    "1. Understanding data frames\n",
    "1. Locating rows and columns\n",
    "1. Cleaning\n",
    "1. Grouping\n",
    "1. Merging"
   ]
  },
  {
   "cell_type": "markdown",
   "metadata": {
    "slideshow": {
     "slide_type": "slide"
    }
   },
   "source": [
    "# 1. Loading the library\n",
    "\n",
    "First things first, we start by importing the Python Data Analysis Library (`PANDAS`):"
   ]
  },
  {
   "cell_type": "code",
   "execution_count": 1,
   "metadata": {},
   "outputs": [],
   "source": [
    "import pandas as pd"
   ]
  },
  {
   "cell_type": "markdown",
   "metadata": {
    "slideshow": {
     "slide_type": "-"
    }
   },
   "source": [
    "Remember our discussion about **objects** in Python. With the command above, we have just loaded the PANDAS library in an object called `pd`. You may wonder: Why should we bother doing that? Answer: Simply to make life easier."
   ]
  },
  {
   "cell_type": "markdown",
   "metadata": {
    "slideshow": {
     "slide_type": "slide"
    }
   },
   "source": [
    "## 2. Reading data from a CSV file\n",
    "\n",
    "Most often, data sets are stored by their respective providers in CSV files, i.e. files containing *comma-separated values*. \n",
    "\n",
    "To read the content of a CSV file, PANDAS offers us the function `read_csv()`.\n",
    "\n",
    "Let's use this function to load some data on HDB resale prices."
   ]
  },
  {
   "cell_type": "code",
   "execution_count": 2,
   "metadata": {
    "slideshow": {
     "slide_type": "-"
    }
   },
   "outputs": [],
   "source": [
    "df = pd.read_csv('Data/hdb-transactions-2018.csv')"
   ]
  },
  {
   "cell_type": "markdown",
   "metadata": {
    "slideshow": {
     "slide_type": "slide"
    }
   },
   "source": [
    "## 3. Understanding data frames\n",
    "\n",
    "To facilitate the kinds of computations and analyses that we are after, PANDAS works with objects of the **DICTIONARY** type that it calls `Data Frames`.\n",
    "\n",
    "PANDAS has read the data from our CSV file into the variable `df`."
   ]
  },
  {
   "cell_type": "markdown",
   "metadata": {
    "slideshow": {
     "slide_type": "subslide"
    }
   },
   "source": [
    "### Viewing data frames"
   ]
  },
  {
   "cell_type": "markdown",
   "metadata": {},
   "source": [
    "Let's see how our data frame looks like:"
   ]
  },
  {
   "cell_type": "code",
   "execution_count": 3,
   "metadata": {},
   "outputs": [
    {
     "data": {
      "text/html": [
       "<div>\n",
       "<style scoped>\n",
       "    .dataframe tbody tr th:only-of-type {\n",
       "        vertical-align: middle;\n",
       "    }\n",
       "\n",
       "    .dataframe tbody tr th {\n",
       "        vertical-align: top;\n",
       "    }\n",
       "\n",
       "    .dataframe thead th {\n",
       "        text-align: right;\n",
       "    }\n",
       "</style>\n",
       "<table border=\"1\" class=\"dataframe\">\n",
       "  <thead>\n",
       "    <tr style=\"text-align: right;\">\n",
       "      <th></th>\n",
       "      <th>month</th>\n",
       "      <th>town</th>\n",
       "      <th>flat_type</th>\n",
       "      <th>floor?_AREA (sqm)</th>\n",
       "      <th>flat_model</th>\n",
       "      <th>resale_price</th>\n",
       "    </tr>\n",
       "  </thead>\n",
       "  <tbody>\n",
       "    <tr>\n",
       "      <th>0</th>\n",
       "      <td>2018-01</td>\n",
       "      <td>ANG MO KIO</td>\n",
       "      <td>2 ROOM</td>\n",
       "      <td>44</td>\n",
       "      <td>Improved</td>\n",
       "      <td>250000.0</td>\n",
       "    </tr>\n",
       "    <tr>\n",
       "      <th>1</th>\n",
       "      <td>2018-01</td>\n",
       "      <td>ANG MO KIO</td>\n",
       "      <td>3 ROOM</td>\n",
       "      <td>73</td>\n",
       "      <td>New Generation</td>\n",
       "      <td>300000.0</td>\n",
       "    </tr>\n",
       "    <tr>\n",
       "      <th>2</th>\n",
       "      <td>2018-01</td>\n",
       "      <td>ANG MO KIO</td>\n",
       "      <td>3 ROOM</td>\n",
       "      <td>73</td>\n",
       "      <td>New Generation</td>\n",
       "      <td>328000.0</td>\n",
       "    </tr>\n",
       "    <tr>\n",
       "      <th>3</th>\n",
       "      <td>2018-01</td>\n",
       "      <td>ANG MO KIO</td>\n",
       "      <td>3 ROOM</td>\n",
       "      <td>68</td>\n",
       "      <td>New Generation</td>\n",
       "      <td>300000.0</td>\n",
       "    </tr>\n",
       "    <tr>\n",
       "      <th>4</th>\n",
       "      <td>2018-01</td>\n",
       "      <td>ANG MO KIO</td>\n",
       "      <td>3 ROOM</td>\n",
       "      <td>68</td>\n",
       "      <td>New Generation</td>\n",
       "      <td>273000.0</td>\n",
       "    </tr>\n",
       "  </tbody>\n",
       "</table>\n",
       "</div>"
      ],
      "text/plain": [
       "     month        town flat_type  floor?_AREA (sqm)      flat_model  \\\n",
       "0  2018-01  ANG MO KIO    2 ROOM                 44        Improved   \n",
       "1  2018-01  ANG MO KIO    3 ROOM                 73  New Generation   \n",
       "2  2018-01  ANG MO KIO    3 ROOM                 73  New Generation   \n",
       "3  2018-01  ANG MO KIO    3 ROOM                 68  New Generation   \n",
       "4  2018-01  ANG MO KIO    3 ROOM                 68  New Generation   \n",
       "\n",
       "   resale_price  \n",
       "0      250000.0  \n",
       "1      300000.0  \n",
       "2      328000.0  \n",
       "3      300000.0  \n",
       "4      273000.0  "
      ]
     },
     "execution_count": 3,
     "metadata": {},
     "output_type": "execute_result"
    }
   ],
   "source": [
    "df.head()"
   ]
  },
  {
   "cell_type": "markdown",
   "metadata": {},
   "source": [
    "The function `head()` plots the **first** 5 rows on the screen, nicely formatted."
   ]
  },
  {
   "cell_type": "markdown",
   "metadata": {
    "slideshow": {
     "slide_type": "subslide"
    }
   },
   "source": [
    "The function `tail()` plots the **last** 5 rows on the screen:"
   ]
  },
  {
   "cell_type": "code",
   "execution_count": 4,
   "metadata": {},
   "outputs": [
    {
     "data": {
      "text/html": [
       "<div>\n",
       "<style scoped>\n",
       "    .dataframe tbody tr th:only-of-type {\n",
       "        vertical-align: middle;\n",
       "    }\n",
       "\n",
       "    .dataframe tbody tr th {\n",
       "        vertical-align: top;\n",
       "    }\n",
       "\n",
       "    .dataframe thead th {\n",
       "        text-align: right;\n",
       "    }\n",
       "</style>\n",
       "<table border=\"1\" class=\"dataframe\">\n",
       "  <thead>\n",
       "    <tr style=\"text-align: right;\">\n",
       "      <th></th>\n",
       "      <th>month</th>\n",
       "      <th>town</th>\n",
       "      <th>flat_type</th>\n",
       "      <th>floor?_AREA (sqm)</th>\n",
       "      <th>flat_model</th>\n",
       "      <th>resale_price</th>\n",
       "    </tr>\n",
       "  </thead>\n",
       "  <tbody>\n",
       "    <tr>\n",
       "      <th>4881</th>\n",
       "      <td>2018-08</td>\n",
       "      <td>WOODLANDS</td>\n",
       "      <td>5 ROOM</td>\n",
       "      <td>121</td>\n",
       "      <td>Improved</td>\n",
       "      <td>428000.0</td>\n",
       "    </tr>\n",
       "    <tr>\n",
       "      <th>4882</th>\n",
       "      <td>2018-08</td>\n",
       "      <td>WOODLANDS</td>\n",
       "      <td>5 ROOM</td>\n",
       "      <td>132</td>\n",
       "      <td>Model A</td>\n",
       "      <td>0.0</td>\n",
       "    </tr>\n",
       "    <tr>\n",
       "      <th>4883</th>\n",
       "      <td>2018-08</td>\n",
       "      <td>WOODLANDS</td>\n",
       "      <td>5 ROOM</td>\n",
       "      <td>128</td>\n",
       "      <td>Improved</td>\n",
       "      <td>NaN</td>\n",
       "    </tr>\n",
       "    <tr>\n",
       "      <th>4884</th>\n",
       "      <td>2018-08</td>\n",
       "      <td>WOODLANDS</td>\n",
       "      <td>5 ROOM</td>\n",
       "      <td>128</td>\n",
       "      <td>Improved</td>\n",
       "      <td>435000.0</td>\n",
       "    </tr>\n",
       "    <tr>\n",
       "      <th>4885</th>\n",
       "      <td>2018-08</td>\n",
       "      <td>WOODLANDS</td>\n",
       "      <td>5 ROOM</td>\n",
       "      <td>122</td>\n",
       "      <td>Improved</td>\n",
       "      <td>365000.0</td>\n",
       "    </tr>\n",
       "  </tbody>\n",
       "</table>\n",
       "</div>"
      ],
      "text/plain": [
       "        month       town flat_type  floor?_AREA (sqm) flat_model  resale_price\n",
       "4881  2018-08  WOODLANDS    5 ROOM                121   Improved      428000.0\n",
       "4882  2018-08  WOODLANDS    5 ROOM                132    Model A           0.0\n",
       "4883  2018-08  WOODLANDS    5 ROOM                128   Improved           NaN\n",
       "4884  2018-08  WOODLANDS    5 ROOM                128   Improved      435000.0\n",
       "4885  2018-08  WOODLANDS    5 ROOM                122   Improved      365000.0"
      ]
     },
     "execution_count": 4,
     "metadata": {},
     "output_type": "execute_result"
    }
   ],
   "source": [
    "df.tail()"
   ]
  },
  {
   "cell_type": "markdown",
   "metadata": {
    "slideshow": {
     "slide_type": "subslide"
    }
   },
   "source": [
    "### Summary statistics\n",
    "\n",
    "First of all, let's get some quick summary statistics for our data set.\n",
    "\n",
    "The function `describe()` shows us the number of observations, the mean of each variable, the minimum, maximum and other statistics:"
   ]
  },
  {
   "cell_type": "code",
   "execution_count": 5,
   "metadata": {},
   "outputs": [
    {
     "data": {
      "text/html": [
       "<div>\n",
       "<style scoped>\n",
       "    .dataframe tbody tr th:only-of-type {\n",
       "        vertical-align: middle;\n",
       "    }\n",
       "\n",
       "    .dataframe tbody tr th {\n",
       "        vertical-align: top;\n",
       "    }\n",
       "\n",
       "    .dataframe thead th {\n",
       "        text-align: right;\n",
       "    }\n",
       "</style>\n",
       "<table border=\"1\" class=\"dataframe\">\n",
       "  <thead>\n",
       "    <tr style=\"text-align: right;\">\n",
       "      <th></th>\n",
       "      <th>floor?_AREA (sqm)</th>\n",
       "      <th>resale_price</th>\n",
       "    </tr>\n",
       "  </thead>\n",
       "  <tbody>\n",
       "    <tr>\n",
       "      <th>count</th>\n",
       "      <td>4886.000000</td>\n",
       "      <td>4.885000e+03</td>\n",
       "    </tr>\n",
       "    <tr>\n",
       "      <th>mean</th>\n",
       "      <td>95.382726</td>\n",
       "      <td>4.092981e+05</td>\n",
       "    </tr>\n",
       "    <tr>\n",
       "      <th>std</th>\n",
       "      <td>20.007625</td>\n",
       "      <td>1.147678e+05</td>\n",
       "    </tr>\n",
       "    <tr>\n",
       "      <th>min</th>\n",
       "      <td>43.000000</td>\n",
       "      <td>0.000000e+00</td>\n",
       "    </tr>\n",
       "    <tr>\n",
       "      <th>25%</th>\n",
       "      <td>76.000000</td>\n",
       "      <td>3.280000e+05</td>\n",
       "    </tr>\n",
       "    <tr>\n",
       "      <th>50%</th>\n",
       "      <td>95.000000</td>\n",
       "      <td>4.030000e+05</td>\n",
       "    </tr>\n",
       "    <tr>\n",
       "      <th>75%</th>\n",
       "      <td>110.000000</td>\n",
       "      <td>4.680000e+05</td>\n",
       "    </tr>\n",
       "    <tr>\n",
       "      <th>max</th>\n",
       "      <td>141.000000</td>\n",
       "      <td>1.068000e+06</td>\n",
       "    </tr>\n",
       "  </tbody>\n",
       "</table>\n",
       "</div>"
      ],
      "text/plain": [
       "       floor?_AREA (sqm)  resale_price\n",
       "count        4886.000000  4.885000e+03\n",
       "mean           95.382726  4.092981e+05\n",
       "std            20.007625  1.147678e+05\n",
       "min            43.000000  0.000000e+00\n",
       "25%            76.000000  3.280000e+05\n",
       "50%            95.000000  4.030000e+05\n",
       "75%           110.000000  4.680000e+05\n",
       "max           141.000000  1.068000e+06"
      ]
     },
     "execution_count": 5,
     "metadata": {},
     "output_type": "execute_result"
    }
   ],
   "source": [
    "df.describe()"
   ]
  },
  {
   "cell_type": "markdown",
   "metadata": {},
   "source": [
    "**Note**: The functions `round()` and `T` can be used to transpose the table and make it look nicer. Try it out in the cell above: `df.describe().round().T`"
   ]
  },
  {
   "cell_type": "markdown",
   "metadata": {
    "slideshow": {
     "slide_type": "subslide"
    }
   },
   "source": [
    "How about the other variables? Since they are not numerical, we cannot get a minimum and a maximum. Instead, we can ask Python to show us their unique values:"
   ]
  },
  {
   "cell_type": "code",
   "execution_count": 6,
   "metadata": {
    "slideshow": {
     "slide_type": "-"
    }
   },
   "outputs": [
    {
     "name": "stdout",
     "output_type": "stream",
     "text": [
      "['ANG MO KIO' 'CENTRAL AREA' 'CLEMENTI' 'GEYLANG' 'JURONG EAST'\n",
      " 'JURONG WEST' 'PUNGGOL' 'TAMPINES' 'WOODLANDS']\n"
     ]
    }
   ],
   "source": [
    "print(df['town'].unique())"
   ]
  },
  {
   "cell_type": "markdown",
   "metadata": {
    "slideshow": {
     "slide_type": "slide"
    }
   },
   "source": [
    "## 4. Locating rows and columns"
   ]
  },
  {
   "cell_type": "markdown",
   "metadata": {
    "slideshow": {
     "slide_type": "-"
    }
   },
   "source": [
    "What if we want to locate certain rows and certain columns?"
   ]
  },
  {
   "cell_type": "code",
   "execution_count": 7,
   "metadata": {},
   "outputs": [
    {
     "data": {
      "text/html": [
       "<div>\n",
       "<style scoped>\n",
       "    .dataframe tbody tr th:only-of-type {\n",
       "        vertical-align: middle;\n",
       "    }\n",
       "\n",
       "    .dataframe tbody tr th {\n",
       "        vertical-align: top;\n",
       "    }\n",
       "\n",
       "    .dataframe thead th {\n",
       "        text-align: right;\n",
       "    }\n",
       "</style>\n",
       "<table border=\"1\" class=\"dataframe\">\n",
       "  <thead>\n",
       "    <tr style=\"text-align: right;\">\n",
       "      <th></th>\n",
       "      <th>town</th>\n",
       "      <th>resale_price</th>\n",
       "    </tr>\n",
       "  </thead>\n",
       "  <tbody>\n",
       "    <tr>\n",
       "      <th>1</th>\n",
       "      <td>ANG MO KIO</td>\n",
       "      <td>300000.0</td>\n",
       "    </tr>\n",
       "    <tr>\n",
       "      <th>2</th>\n",
       "      <td>ANG MO KIO</td>\n",
       "      <td>328000.0</td>\n",
       "    </tr>\n",
       "    <tr>\n",
       "      <th>3</th>\n",
       "      <td>ANG MO KIO</td>\n",
       "      <td>300000.0</td>\n",
       "    </tr>\n",
       "  </tbody>\n",
       "</table>\n",
       "</div>"
      ],
      "text/plain": [
       "         town  resale_price\n",
       "1  ANG MO KIO      300000.0\n",
       "2  ANG MO KIO      328000.0\n",
       "3  ANG MO KIO      300000.0"
      ]
     },
     "execution_count": 7,
     "metadata": {},
     "output_type": "execute_result"
    }
   ],
   "source": [
    "df.loc[[1,2,3],['town','resale_price']]"
   ]
  },
  {
   "cell_type": "markdown",
   "metadata": {
    "slideshow": {
     "slide_type": "subslide"
    }
   },
   "source": [
    "What if we want to select transactions that meet a certain condition?"
   ]
  },
  {
   "cell_type": "code",
   "execution_count": 8,
   "metadata": {},
   "outputs": [
    {
     "data": {
      "text/html": [
       "<div>\n",
       "<style scoped>\n",
       "    .dataframe tbody tr th:only-of-type {\n",
       "        vertical-align: middle;\n",
       "    }\n",
       "\n",
       "    .dataframe tbody tr th {\n",
       "        vertical-align: top;\n",
       "    }\n",
       "\n",
       "    .dataframe thead th {\n",
       "        text-align: right;\n",
       "    }\n",
       "</style>\n",
       "<table border=\"1\" class=\"dataframe\">\n",
       "  <thead>\n",
       "    <tr style=\"text-align: right;\">\n",
       "      <th></th>\n",
       "      <th>resale_price</th>\n",
       "    </tr>\n",
       "  </thead>\n",
       "  <tbody>\n",
       "    <tr>\n",
       "      <th>count</th>\n",
       "      <td>3.000000e+02</td>\n",
       "    </tr>\n",
       "    <tr>\n",
       "      <th>mean</th>\n",
       "      <td>4.664528e+05</td>\n",
       "    </tr>\n",
       "    <tr>\n",
       "      <th>std</th>\n",
       "      <td>1.751816e+05</td>\n",
       "    </tr>\n",
       "    <tr>\n",
       "      <th>min</th>\n",
       "      <td>2.360000e+05</td>\n",
       "    </tr>\n",
       "    <tr>\n",
       "      <th>25%</th>\n",
       "      <td>3.180000e+05</td>\n",
       "    </tr>\n",
       "    <tr>\n",
       "      <th>50%</th>\n",
       "      <td>4.180000e+05</td>\n",
       "    </tr>\n",
       "    <tr>\n",
       "      <th>75%</th>\n",
       "      <td>6.207500e+05</td>\n",
       "    </tr>\n",
       "    <tr>\n",
       "      <th>max</th>\n",
       "      <td>1.068000e+06</td>\n",
       "    </tr>\n",
       "  </tbody>\n",
       "</table>\n",
       "</div>"
      ],
      "text/plain": [
       "       resale_price\n",
       "count  3.000000e+02\n",
       "mean   4.664528e+05\n",
       "std    1.751816e+05\n",
       "min    2.360000e+05\n",
       "25%    3.180000e+05\n",
       "50%    4.180000e+05\n",
       "75%    6.207500e+05\n",
       "max    1.068000e+06"
      ]
     },
     "execution_count": 8,
     "metadata": {},
     "output_type": "execute_result"
    }
   ],
   "source": [
    "df.loc[df['town']=='CLEMENTI',['town','resale_price']].describe()"
   ]
  },
  {
   "cell_type": "markdown",
   "metadata": {
    "slideshow": {
     "slide_type": "subslide"
    }
   },
   "source": [
    "What if we want to consider more than one town? Using the `isin()` method for filtering:"
   ]
  },
  {
   "cell_type": "code",
   "execution_count": 9,
   "metadata": {},
   "outputs": [
    {
     "data": {
      "text/html": [
       "<div>\n",
       "<style scoped>\n",
       "    .dataframe tbody tr th:only-of-type {\n",
       "        vertical-align: middle;\n",
       "    }\n",
       "\n",
       "    .dataframe tbody tr th {\n",
       "        vertical-align: top;\n",
       "    }\n",
       "\n",
       "    .dataframe thead th {\n",
       "        text-align: right;\n",
       "    }\n",
       "</style>\n",
       "<table border=\"1\" class=\"dataframe\">\n",
       "  <thead>\n",
       "    <tr style=\"text-align: right;\">\n",
       "      <th></th>\n",
       "      <th>resale_price</th>\n",
       "    </tr>\n",
       "  </thead>\n",
       "  <tbody>\n",
       "    <tr>\n",
       "      <th>count</th>\n",
       "      <td>1206.000000</td>\n",
       "    </tr>\n",
       "    <tr>\n",
       "      <th>mean</th>\n",
       "      <td>376377.508292</td>\n",
       "    </tr>\n",
       "    <tr>\n",
       "      <th>std</th>\n",
       "      <td>97450.199617</td>\n",
       "    </tr>\n",
       "    <tr>\n",
       "      <th>min</th>\n",
       "      <td>175000.000000</td>\n",
       "    </tr>\n",
       "    <tr>\n",
       "      <th>25%</th>\n",
       "      <td>307250.000000</td>\n",
       "    </tr>\n",
       "    <tr>\n",
       "      <th>50%</th>\n",
       "      <td>375000.000000</td>\n",
       "    </tr>\n",
       "    <tr>\n",
       "      <th>75%</th>\n",
       "      <td>440000.000000</td>\n",
       "    </tr>\n",
       "    <tr>\n",
       "      <th>max</th>\n",
       "      <td>698000.000000</td>\n",
       "    </tr>\n",
       "  </tbody>\n",
       "</table>\n",
       "</div>"
      ],
      "text/plain": [
       "        resale_price\n",
       "count    1206.000000\n",
       "mean   376377.508292\n",
       "std     97450.199617\n",
       "min    175000.000000\n",
       "25%    307250.000000\n",
       "50%    375000.000000\n",
       "75%    440000.000000\n",
       "max    698000.000000"
      ]
     },
     "execution_count": 9,
     "metadata": {},
     "output_type": "execute_result"
    }
   ],
   "source": [
    "df.loc[df['town'].isin(['JURONG EAST', 'JURONG WEST']),['town','resale_price']].describe()"
   ]
  },
  {
   "cell_type": "markdown",
   "metadata": {
    "slideshow": {
     "slide_type": "slide"
    }
   },
   "source": [
    "## 5. Cleaning\n",
    "\n",
    "Publicly available data often contains outliers, missing observations, or it simply extends beyond what we need in our analysis."
   ]
  },
  {
   "cell_type": "markdown",
   "metadata": {},
   "source": [
    "If we simply want to drop missing observations, we have a simple function available:"
   ]
  },
  {
   "cell_type": "code",
   "execution_count": 10,
   "metadata": {},
   "outputs": [],
   "source": [
    "df = df.dropna()"
   ]
  },
  {
   "cell_type": "markdown",
   "metadata": {
    "slideshow": {
     "slide_type": "subslide"
    }
   },
   "source": [
    "If we want to drop transactions where the price is obviously wrong, e.g. negative or zero, we use the locate (`loc`) function:"
   ]
  },
  {
   "cell_type": "code",
   "execution_count": 11,
   "metadata": {},
   "outputs": [
    {
     "data": {
      "text/html": [
       "<div>\n",
       "<style scoped>\n",
       "    .dataframe tbody tr th:only-of-type {\n",
       "        vertical-align: middle;\n",
       "    }\n",
       "\n",
       "    .dataframe tbody tr th {\n",
       "        vertical-align: top;\n",
       "    }\n",
       "\n",
       "    .dataframe thead th {\n",
       "        text-align: right;\n",
       "    }\n",
       "</style>\n",
       "<table border=\"1\" class=\"dataframe\">\n",
       "  <thead>\n",
       "    <tr style=\"text-align: right;\">\n",
       "      <th></th>\n",
       "      <th>floor?_AREA (sqm)</th>\n",
       "      <th>resale_price</th>\n",
       "    </tr>\n",
       "  </thead>\n",
       "  <tbody>\n",
       "    <tr>\n",
       "      <th>count</th>\n",
       "      <td>4880.000000</td>\n",
       "      <td>4.880000e+03</td>\n",
       "    </tr>\n",
       "    <tr>\n",
       "      <th>mean</th>\n",
       "      <td>95.353689</td>\n",
       "      <td>4.097174e+05</td>\n",
       "    </tr>\n",
       "    <tr>\n",
       "      <th>std</th>\n",
       "      <td>19.999239</td>\n",
       "      <td>1.140758e+05</td>\n",
       "    </tr>\n",
       "    <tr>\n",
       "      <th>min</th>\n",
       "      <td>43.000000</td>\n",
       "      <td>1.750000e+05</td>\n",
       "    </tr>\n",
       "    <tr>\n",
       "      <th>25%</th>\n",
       "      <td>75.000000</td>\n",
       "      <td>3.280000e+05</td>\n",
       "    </tr>\n",
       "    <tr>\n",
       "      <th>50%</th>\n",
       "      <td>95.000000</td>\n",
       "      <td>4.030000e+05</td>\n",
       "    </tr>\n",
       "    <tr>\n",
       "      <th>75%</th>\n",
       "      <td>110.000000</td>\n",
       "      <td>4.680000e+05</td>\n",
       "    </tr>\n",
       "    <tr>\n",
       "      <th>max</th>\n",
       "      <td>141.000000</td>\n",
       "      <td>1.068000e+06</td>\n",
       "    </tr>\n",
       "  </tbody>\n",
       "</table>\n",
       "</div>"
      ],
      "text/plain": [
       "       floor?_AREA (sqm)  resale_price\n",
       "count        4880.000000  4.880000e+03\n",
       "mean           95.353689  4.097174e+05\n",
       "std            19.999239  1.140758e+05\n",
       "min            43.000000  1.750000e+05\n",
       "25%            75.000000  3.280000e+05\n",
       "50%            95.000000  4.030000e+05\n",
       "75%           110.000000  4.680000e+05\n",
       "max           141.000000  1.068000e+06"
      ]
     },
     "execution_count": 11,
     "metadata": {},
     "output_type": "execute_result"
    }
   ],
   "source": [
    "df = df.loc[df['resale_price']>0]\n",
    "df.describe()"
   ]
  },
  {
   "cell_type": "markdown",
   "metadata": {
    "slideshow": {
     "slide_type": "slide"
    }
   },
   "source": [
    "## 6. Grouping\n",
    "\n",
    "Grouping is by far the  most frequent operation that we want to do with data.\n",
    "\n",
    "The function that PANDAS offers to do this is called `groupby` and it is used together with functions such as `max` or `mean` or `count`:"
   ]
  },
  {
   "cell_type": "code",
   "execution_count": 14,
   "metadata": {},
   "outputs": [
    {
     "data": {
      "text/html": [
       "<div>\n",
       "<style scoped>\n",
       "    .dataframe tbody tr th:only-of-type {\n",
       "        vertical-align: middle;\n",
       "    }\n",
       "\n",
       "    .dataframe tbody tr th {\n",
       "        vertical-align: top;\n",
       "    }\n",
       "\n",
       "    .dataframe thead th {\n",
       "        text-align: right;\n",
       "    }\n",
       "</style>\n",
       "<table border=\"1\" class=\"dataframe\">\n",
       "  <thead>\n",
       "    <tr style=\"text-align: right;\">\n",
       "      <th></th>\n",
       "      <th>floor_area</th>\n",
       "      <th>resale_price</th>\n",
       "    </tr>\n",
       "    <tr>\n",
       "      <th>town</th>\n",
       "      <th></th>\n",
       "      <th></th>\n",
       "    </tr>\n",
       "  </thead>\n",
       "  <tbody>\n",
       "    <tr>\n",
       "      <th>ANG MO KIO</th>\n",
       "      <td>82.427632</td>\n",
       "      <td>387633.717105</td>\n",
       "    </tr>\n",
       "    <tr>\n",
       "      <th>CENTRAL AREA</th>\n",
       "      <td>76.039474</td>\n",
       "      <td>468907.894737</td>\n",
       "    </tr>\n",
       "    <tr>\n",
       "      <th>CLEMENTI</th>\n",
       "      <td>84.413333</td>\n",
       "      <td>466452.753333</td>\n",
       "    </tr>\n",
       "    <tr>\n",
       "      <th>GEYLANG</th>\n",
       "      <td>87.885246</td>\n",
       "      <td>494735.803279</td>\n",
       "    </tr>\n",
       "    <tr>\n",
       "      <th>JURONG EAST</th>\n",
       "      <td>92.916955</td>\n",
       "      <td>406199.304498</td>\n",
       "    </tr>\n",
       "    <tr>\n",
       "      <th>JURONG WEST</th>\n",
       "      <td>98.042530</td>\n",
       "      <td>366978.926936</td>\n",
       "    </tr>\n",
       "    <tr>\n",
       "      <th>PUNGGOL</th>\n",
       "      <td>95.924584</td>\n",
       "      <td>442388.791381</td>\n",
       "    </tr>\n",
       "    <tr>\n",
       "      <th>TAMPINES</th>\n",
       "      <td>104.296137</td>\n",
       "      <td>449765.522175</td>\n",
       "    </tr>\n",
       "    <tr>\n",
       "      <th>WOODLANDS</th>\n",
       "      <td>102.190597</td>\n",
       "      <td>352800.420584</td>\n",
       "    </tr>\n",
       "  </tbody>\n",
       "</table>\n",
       "</div>"
      ],
      "text/plain": [
       "              floor_area   resale_price\n",
       "town                                   \n",
       "ANG MO KIO     82.427632  387633.717105\n",
       "CENTRAL AREA   76.039474  468907.894737\n",
       "CLEMENTI       84.413333  466452.753333\n",
       "GEYLANG        87.885246  494735.803279\n",
       "JURONG EAST    92.916955  406199.304498\n",
       "JURONG WEST    98.042530  366978.926936\n",
       "PUNGGOL        95.924584  442388.791381\n",
       "TAMPINES      104.296137  449765.522175\n",
       "WOODLANDS     102.190597  352800.420584"
      ]
     },
     "execution_count": 14,
     "metadata": {},
     "output_type": "execute_result"
    }
   ],
   "source": [
    "df.groupby('town').mean()"
   ]
  },
  {
   "cell_type": "markdown",
   "metadata": {
    "slideshow": {
     "slide_type": "subslide"
    }
   },
   "source": [
    "What if we want to sort towns in increasing order of prices?"
   ]
  },
  {
   "cell_type": "code",
   "execution_count": 15,
   "metadata": {},
   "outputs": [
    {
     "data": {
      "text/html": [
       "<div>\n",
       "<style scoped>\n",
       "    .dataframe tbody tr th:only-of-type {\n",
       "        vertical-align: middle;\n",
       "    }\n",
       "\n",
       "    .dataframe tbody tr th {\n",
       "        vertical-align: top;\n",
       "    }\n",
       "\n",
       "    .dataframe thead th {\n",
       "        text-align: right;\n",
       "    }\n",
       "</style>\n",
       "<table border=\"1\" class=\"dataframe\">\n",
       "  <thead>\n",
       "    <tr style=\"text-align: right;\">\n",
       "      <th></th>\n",
       "      <th>floor_area</th>\n",
       "      <th>resale_price</th>\n",
       "    </tr>\n",
       "    <tr>\n",
       "      <th>town</th>\n",
       "      <th></th>\n",
       "      <th></th>\n",
       "    </tr>\n",
       "  </thead>\n",
       "  <tbody>\n",
       "    <tr>\n",
       "      <th>WOODLANDS</th>\n",
       "      <td>102.190597</td>\n",
       "      <td>352800.420584</td>\n",
       "    </tr>\n",
       "    <tr>\n",
       "      <th>JURONG WEST</th>\n",
       "      <td>98.042530</td>\n",
       "      <td>366978.926936</td>\n",
       "    </tr>\n",
       "    <tr>\n",
       "      <th>ANG MO KIO</th>\n",
       "      <td>82.427632</td>\n",
       "      <td>387633.717105</td>\n",
       "    </tr>\n",
       "    <tr>\n",
       "      <th>JURONG EAST</th>\n",
       "      <td>92.916955</td>\n",
       "      <td>406199.304498</td>\n",
       "    </tr>\n",
       "    <tr>\n",
       "      <th>PUNGGOL</th>\n",
       "      <td>95.924584</td>\n",
       "      <td>442388.791381</td>\n",
       "    </tr>\n",
       "    <tr>\n",
       "      <th>TAMPINES</th>\n",
       "      <td>104.296137</td>\n",
       "      <td>449765.522175</td>\n",
       "    </tr>\n",
       "    <tr>\n",
       "      <th>CLEMENTI</th>\n",
       "      <td>84.413333</td>\n",
       "      <td>466452.753333</td>\n",
       "    </tr>\n",
       "    <tr>\n",
       "      <th>CENTRAL AREA</th>\n",
       "      <td>76.039474</td>\n",
       "      <td>468907.894737</td>\n",
       "    </tr>\n",
       "    <tr>\n",
       "      <th>GEYLANG</th>\n",
       "      <td>87.885246</td>\n",
       "      <td>494735.803279</td>\n",
       "    </tr>\n",
       "  </tbody>\n",
       "</table>\n",
       "</div>"
      ],
      "text/plain": [
       "              floor_area   resale_price\n",
       "town                                   \n",
       "WOODLANDS     102.190597  352800.420584\n",
       "JURONG WEST    98.042530  366978.926936\n",
       "ANG MO KIO     82.427632  387633.717105\n",
       "JURONG EAST    92.916955  406199.304498\n",
       "PUNGGOL        95.924584  442388.791381\n",
       "TAMPINES      104.296137  449765.522175\n",
       "CLEMENTI       84.413333  466452.753333\n",
       "CENTRAL AREA   76.039474  468907.894737\n",
       "GEYLANG        87.885246  494735.803279"
      ]
     },
     "execution_count": 15,
     "metadata": {},
     "output_type": "execute_result"
    }
   ],
   "source": [
    "df.groupby('town').mean().sort_values(by='resale_price')"
   ]
  },
  {
   "cell_type": "markdown",
   "metadata": {
    "slideshow": {
     "slide_type": "subslide"
    }
   },
   "source": [
    "How about some more complicated overviews? Using the function `pivot_table`:"
   ]
  },
  {
   "cell_type": "code",
   "execution_count": 16,
   "metadata": {},
   "outputs": [
    {
     "data": {
      "text/html": [
       "<div>\n",
       "<style scoped>\n",
       "    .dataframe tbody tr th:only-of-type {\n",
       "        vertical-align: middle;\n",
       "    }\n",
       "\n",
       "    .dataframe tbody tr th {\n",
       "        vertical-align: top;\n",
       "    }\n",
       "\n",
       "    .dataframe thead th {\n",
       "        text-align: right;\n",
       "    }\n",
       "</style>\n",
       "<table border=\"1\" class=\"dataframe\">\n",
       "  <thead>\n",
       "    <tr style=\"text-align: right;\">\n",
       "      <th>flat_type</th>\n",
       "      <th>2 ROOM</th>\n",
       "      <th>3 ROOM</th>\n",
       "      <th>4 ROOM</th>\n",
       "      <th>5 ROOM</th>\n",
       "    </tr>\n",
       "    <tr>\n",
       "      <th>town</th>\n",
       "      <th></th>\n",
       "      <th></th>\n",
       "      <th></th>\n",
       "      <th></th>\n",
       "    </tr>\n",
       "  </thead>\n",
       "  <tbody>\n",
       "    <tr>\n",
       "      <th>ANG MO KIO</th>\n",
       "      <td>215455.0</td>\n",
       "      <td>298685.0</td>\n",
       "      <td>475018.0</td>\n",
       "      <td>663712.0</td>\n",
       "    </tr>\n",
       "    <tr>\n",
       "      <th>CENTRAL AREA</th>\n",
       "      <td>250000.0</td>\n",
       "      <td>419667.0</td>\n",
       "      <td>537720.0</td>\n",
       "      <td>611800.0</td>\n",
       "    </tr>\n",
       "    <tr>\n",
       "      <th>CLEMENTI</th>\n",
       "      <td>321500.0</td>\n",
       "      <td>335672.0</td>\n",
       "      <td>581099.0</td>\n",
       "      <td>697258.0</td>\n",
       "    </tr>\n",
       "    <tr>\n",
       "      <th>GEYLANG</th>\n",
       "      <td>231000.0</td>\n",
       "      <td>321764.0</td>\n",
       "      <td>568258.0</td>\n",
       "      <td>691661.0</td>\n",
       "    </tr>\n",
       "    <tr>\n",
       "      <th>JURONG EAST</th>\n",
       "      <td>242286.0</td>\n",
       "      <td>288173.0</td>\n",
       "      <td>421377.0</td>\n",
       "      <td>555319.0</td>\n",
       "    </tr>\n",
       "    <tr>\n",
       "      <th>JURONG WEST</th>\n",
       "      <td>219567.0</td>\n",
       "      <td>256223.0</td>\n",
       "      <td>364636.0</td>\n",
       "      <td>438643.0</td>\n",
       "    </tr>\n",
       "    <tr>\n",
       "      <th>PUNGGOL</th>\n",
       "      <td>261770.0</td>\n",
       "      <td>351450.0</td>\n",
       "      <td>448327.0</td>\n",
       "      <td>466561.0</td>\n",
       "    </tr>\n",
       "    <tr>\n",
       "      <th>TAMPINES</th>\n",
       "      <td>268875.0</td>\n",
       "      <td>333839.0</td>\n",
       "      <td>439202.0</td>\n",
       "      <td>532952.0</td>\n",
       "    </tr>\n",
       "    <tr>\n",
       "      <th>WOODLANDS</th>\n",
       "      <td>195000.0</td>\n",
       "      <td>261360.0</td>\n",
       "      <td>337101.0</td>\n",
       "      <td>408632.0</td>\n",
       "    </tr>\n",
       "  </tbody>\n",
       "</table>\n",
       "</div>"
      ],
      "text/plain": [
       "flat_type       2 ROOM    3 ROOM    4 ROOM    5 ROOM\n",
       "town                                                \n",
       "ANG MO KIO    215455.0  298685.0  475018.0  663712.0\n",
       "CENTRAL AREA  250000.0  419667.0  537720.0  611800.0\n",
       "CLEMENTI      321500.0  335672.0  581099.0  697258.0\n",
       "GEYLANG       231000.0  321764.0  568258.0  691661.0\n",
       "JURONG EAST   242286.0  288173.0  421377.0  555319.0\n",
       "JURONG WEST   219567.0  256223.0  364636.0  438643.0\n",
       "PUNGGOL       261770.0  351450.0  448327.0  466561.0\n",
       "TAMPINES      268875.0  333839.0  439202.0  532952.0\n",
       "WOODLANDS     195000.0  261360.0  337101.0  408632.0"
      ]
     },
     "execution_count": 16,
     "metadata": {},
     "output_type": "execute_result"
    }
   ],
   "source": [
    "pd.pivot_table(df, values='resale_price', index=['town'], columns=['flat_type']).round()"
   ]
  },
  {
   "cell_type": "markdown",
   "metadata": {
    "slideshow": {
     "slide_type": "slide"
    }
   },
   "source": [
    "## 7. Merging"
   ]
  },
  {
   "cell_type": "markdown",
   "metadata": {},
   "source": [
    "Finally, we often need to merge data from different sources. For example, we may want to label each town as belonging to a certain region of Singapore. \n",
    "\n",
    "For this purpose, let's read in an additional data set:"
   ]
  },
  {
   "cell_type": "code",
   "execution_count": 17,
   "metadata": {},
   "outputs": [],
   "source": [
    "dreg = pd.read_csv('Data/regions.csv')"
   ]
  },
  {
   "cell_type": "code",
   "execution_count": 18,
   "metadata": {},
   "outputs": [
    {
     "data": {
      "text/html": [
       "<div>\n",
       "<style scoped>\n",
       "    .dataframe tbody tr th:only-of-type {\n",
       "        vertical-align: middle;\n",
       "    }\n",
       "\n",
       "    .dataframe tbody tr th {\n",
       "        vertical-align: top;\n",
       "    }\n",
       "\n",
       "    .dataframe thead th {\n",
       "        text-align: right;\n",
       "    }\n",
       "</style>\n",
       "<table border=\"1\" class=\"dataframe\">\n",
       "  <thead>\n",
       "    <tr style=\"text-align: right;\">\n",
       "      <th></th>\n",
       "      <th>town</th>\n",
       "      <th>region</th>\n",
       "    </tr>\n",
       "  </thead>\n",
       "  <tbody>\n",
       "    <tr>\n",
       "      <th>0</th>\n",
       "      <td>CLEMENTI</td>\n",
       "      <td>WEST</td>\n",
       "    </tr>\n",
       "    <tr>\n",
       "      <th>1</th>\n",
       "      <td>JURONG EAST</td>\n",
       "      <td>WEST</td>\n",
       "    </tr>\n",
       "    <tr>\n",
       "      <th>2</th>\n",
       "      <td>JURONG WEST</td>\n",
       "      <td>WEST</td>\n",
       "    </tr>\n",
       "    <tr>\n",
       "      <th>3</th>\n",
       "      <td>GEYLANG</td>\n",
       "      <td>EAST</td>\n",
       "    </tr>\n",
       "    <tr>\n",
       "      <th>4</th>\n",
       "      <td>TAMPINES</td>\n",
       "      <td>EAST</td>\n",
       "    </tr>\n",
       "    <tr>\n",
       "      <th>5</th>\n",
       "      <td>CENTRAL AREA</td>\n",
       "      <td>CENTRAL</td>\n",
       "    </tr>\n",
       "    <tr>\n",
       "      <th>6</th>\n",
       "      <td>ANG MO KIO</td>\n",
       "      <td>NORTH</td>\n",
       "    </tr>\n",
       "    <tr>\n",
       "      <th>7</th>\n",
       "      <td>WOODLANDS</td>\n",
       "      <td>NORTH</td>\n",
       "    </tr>\n",
       "    <tr>\n",
       "      <th>8</th>\n",
       "      <td>PUNGGOL</td>\n",
       "      <td>NORTH</td>\n",
       "    </tr>\n",
       "  </tbody>\n",
       "</table>\n",
       "</div>"
      ],
      "text/plain": [
       "           town   region\n",
       "0      CLEMENTI     WEST\n",
       "1   JURONG EAST     WEST\n",
       "2   JURONG WEST     WEST\n",
       "3       GEYLANG     EAST\n",
       "4      TAMPINES     EAST\n",
       "5  CENTRAL AREA  CENTRAL\n",
       "6    ANG MO KIO    NORTH\n",
       "7     WOODLANDS    NORTH\n",
       "8       PUNGGOL    NORTH"
      ]
     },
     "execution_count": 18,
     "metadata": {},
     "output_type": "execute_result"
    }
   ],
   "source": [
    "dreg"
   ]
  },
  {
   "cell_type": "markdown",
   "metadata": {
    "slideshow": {
     "slide_type": "subslide"
    }
   },
   "source": [
    "Now, let's merge the two datasets:"
   ]
  },
  {
   "cell_type": "code",
   "execution_count": 19,
   "metadata": {},
   "outputs": [],
   "source": [
    "df2 = pd.merge(df, dreg, on='town')"
   ]
  },
  {
   "cell_type": "code",
   "execution_count": 20,
   "metadata": {},
   "outputs": [
    {
     "data": {
      "text/html": [
       "<div>\n",
       "<style scoped>\n",
       "    .dataframe tbody tr th:only-of-type {\n",
       "        vertical-align: middle;\n",
       "    }\n",
       "\n",
       "    .dataframe tbody tr th {\n",
       "        vertical-align: top;\n",
       "    }\n",
       "\n",
       "    .dataframe thead th {\n",
       "        text-align: right;\n",
       "    }\n",
       "</style>\n",
       "<table border=\"1\" class=\"dataframe\">\n",
       "  <thead>\n",
       "    <tr style=\"text-align: right;\">\n",
       "      <th></th>\n",
       "      <th>month</th>\n",
       "      <th>town</th>\n",
       "      <th>flat_type</th>\n",
       "      <th>floor_area</th>\n",
       "      <th>flat_model</th>\n",
       "      <th>resale_price</th>\n",
       "      <th>region</th>\n",
       "    </tr>\n",
       "  </thead>\n",
       "  <tbody>\n",
       "    <tr>\n",
       "      <th>0</th>\n",
       "      <td>2018-01</td>\n",
       "      <td>ANG MO KIO</td>\n",
       "      <td>2 ROOM</td>\n",
       "      <td>44</td>\n",
       "      <td>Improved</td>\n",
       "      <td>250000.0</td>\n",
       "      <td>NORTH</td>\n",
       "    </tr>\n",
       "    <tr>\n",
       "      <th>1</th>\n",
       "      <td>2018-01</td>\n",
       "      <td>ANG MO KIO</td>\n",
       "      <td>3 ROOM</td>\n",
       "      <td>73</td>\n",
       "      <td>New Generation</td>\n",
       "      <td>300000.0</td>\n",
       "      <td>NORTH</td>\n",
       "    </tr>\n",
       "    <tr>\n",
       "      <th>2</th>\n",
       "      <td>2018-01</td>\n",
       "      <td>ANG MO KIO</td>\n",
       "      <td>3 ROOM</td>\n",
       "      <td>73</td>\n",
       "      <td>New Generation</td>\n",
       "      <td>328000.0</td>\n",
       "      <td>NORTH</td>\n",
       "    </tr>\n",
       "    <tr>\n",
       "      <th>3</th>\n",
       "      <td>2018-01</td>\n",
       "      <td>ANG MO KIO</td>\n",
       "      <td>3 ROOM</td>\n",
       "      <td>68</td>\n",
       "      <td>New Generation</td>\n",
       "      <td>300000.0</td>\n",
       "      <td>NORTH</td>\n",
       "    </tr>\n",
       "    <tr>\n",
       "      <th>4</th>\n",
       "      <td>2018-01</td>\n",
       "      <td>ANG MO KIO</td>\n",
       "      <td>3 ROOM</td>\n",
       "      <td>68</td>\n",
       "      <td>New Generation</td>\n",
       "      <td>273000.0</td>\n",
       "      <td>NORTH</td>\n",
       "    </tr>\n",
       "  </tbody>\n",
       "</table>\n",
       "</div>"
      ],
      "text/plain": [
       "     month        town flat_type  floor_area      flat_model  resale_price  \\\n",
       "0  2018-01  ANG MO KIO    2 ROOM          44        Improved      250000.0   \n",
       "1  2018-01  ANG MO KIO    3 ROOM          73  New Generation      300000.0   \n",
       "2  2018-01  ANG MO KIO    3 ROOM          73  New Generation      328000.0   \n",
       "3  2018-01  ANG MO KIO    3 ROOM          68  New Generation      300000.0   \n",
       "4  2018-01  ANG MO KIO    3 ROOM          68  New Generation      273000.0   \n",
       "\n",
       "  region  \n",
       "0  NORTH  \n",
       "1  NORTH  \n",
       "2  NORTH  \n",
       "3  NORTH  \n",
       "4  NORTH  "
      ]
     },
     "execution_count": 20,
     "metadata": {},
     "output_type": "execute_result"
    }
   ],
   "source": [
    "df2.head()"
   ]
  },
  {
   "cell_type": "markdown",
   "metadata": {
    "slideshow": {
     "slide_type": "subslide"
    }
   },
   "source": [
    "... and build a table that tells us how prices for different flat types vary by region:"
   ]
  },
  {
   "cell_type": "code",
   "execution_count": 21,
   "metadata": {},
   "outputs": [
    {
     "data": {
      "text/html": [
       "<div>\n",
       "<style scoped>\n",
       "    .dataframe tbody tr th:only-of-type {\n",
       "        vertical-align: middle;\n",
       "    }\n",
       "\n",
       "    .dataframe tbody tr th {\n",
       "        vertical-align: top;\n",
       "    }\n",
       "\n",
       "    .dataframe thead th {\n",
       "        text-align: right;\n",
       "    }\n",
       "</style>\n",
       "<table border=\"1\" class=\"dataframe\">\n",
       "  <thead>\n",
       "    <tr style=\"text-align: right;\">\n",
       "      <th>flat_type</th>\n",
       "      <th>2 ROOM</th>\n",
       "      <th>3 ROOM</th>\n",
       "      <th>4 ROOM</th>\n",
       "      <th>5 ROOM</th>\n",
       "    </tr>\n",
       "    <tr>\n",
       "      <th>region</th>\n",
       "      <th></th>\n",
       "      <th></th>\n",
       "      <th></th>\n",
       "      <th></th>\n",
       "    </tr>\n",
       "  </thead>\n",
       "  <tbody>\n",
       "    <tr>\n",
       "      <th>CENTRAL</th>\n",
       "      <td>250000.0</td>\n",
       "      <td>419667.0</td>\n",
       "      <td>537720.0</td>\n",
       "      <td>611800.0</td>\n",
       "    </tr>\n",
       "    <tr>\n",
       "      <th>EAST</th>\n",
       "      <td>258545.0</td>\n",
       "      <td>330128.0</td>\n",
       "      <td>468122.0</td>\n",
       "      <td>550646.0</td>\n",
       "    </tr>\n",
       "    <tr>\n",
       "      <th>NORTH</th>\n",
       "      <td>242858.0</td>\n",
       "      <td>299275.0</td>\n",
       "      <td>413272.0</td>\n",
       "      <td>466216.0</td>\n",
       "    </tr>\n",
       "    <tr>\n",
       "      <th>WEST</th>\n",
       "      <td>244209.0</td>\n",
       "      <td>289892.0</td>\n",
       "      <td>416500.0</td>\n",
       "      <td>479121.0</td>\n",
       "    </tr>\n",
       "  </tbody>\n",
       "</table>\n",
       "</div>"
      ],
      "text/plain": [
       "flat_type    2 ROOM    3 ROOM    4 ROOM    5 ROOM\n",
       "region                                           \n",
       "CENTRAL    250000.0  419667.0  537720.0  611800.0\n",
       "EAST       258545.0  330128.0  468122.0  550646.0\n",
       "NORTH      242858.0  299275.0  413272.0  466216.0\n",
       "WEST       244209.0  289892.0  416500.0  479121.0"
      ]
     },
     "execution_count": 21,
     "metadata": {},
     "output_type": "execute_result"
    }
   ],
   "source": [
    "pd.pivot_table(df2, values='resale_price', index=['region'], columns=['flat_type']).round()"
   ]
  },
  {
   "cell_type": "markdown",
   "metadata": {},
   "source": [
    "### THE END"
   ]
  }
 ],
 "metadata": {
  "celltoolbar": "Slideshow",
  "kernelspec": {
   "display_name": "Python 3",
   "language": "python",
   "name": "python3"
  },
  "language_info": {
   "codemirror_mode": {
    "name": "ipython",
    "version": 3
   },
   "file_extension": ".py",
   "mimetype": "text/x-python",
   "name": "python",
   "nbconvert_exporter": "python",
   "pygments_lexer": "ipython3",
   "version": "3.6.5"
  },
  "rise": {
   "height": "90%",
   "width": "90%"
  }
 },
 "nbformat": 4,
 "nbformat_minor": 1
}
