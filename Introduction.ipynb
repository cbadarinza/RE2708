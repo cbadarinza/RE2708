{
 "cells": [
  {
   "cell_type": "markdown",
   "metadata": {},
   "source": [
    "<img align=left src=\"http://www.nus.edu.sg/templates/t3_nus2015/images/assets/logos/logo.png\" width=125>\n",
    "<br><br>\n",
    "\n",
    "# RE2708 Introduction\n",
    "\n",
    "Dr. Cristian Badarinza\n"
   ]
  },
  {
   "cell_type": "markdown",
   "metadata": {},
   "source": [
    "Hi there! This is an interactive programming environment.\n",
    "\n",
    "Think of this as your usual Word document, but with the additional twist that you can embed pieces of code directly in the text itself.\n",
    "\n",
    "Start by writing `'print(5+3)'` in the cell below and press `Shift + Enter`."
   ]
  },
  {
   "cell_type": "code",
   "execution_count": null,
   "metadata": {},
   "outputs": [],
   "source": [
    "print(5+3)"
   ]
  },
  {
   "cell_type": "markdown",
   "metadata": {},
   "source": [
    "Interesting! It seems like you give the system an instruction `(In)` and it reacts back with some output.\n",
    "\n",
    "Let's try some more computations. Write `print(abs(-7))` in the cell below and press `Shift + Enter`. The function `abs` calculates the absolute value of a number."
   ]
  },
  {
   "cell_type": "code",
   "execution_count": null,
   "metadata": {},
   "outputs": [],
   "source": [
    "print(abs(-7))"
   ]
  },
  {
   "cell_type": "markdown",
   "metadata": {},
   "source": [
    "How about working with some string (text) variables? Write `'Hello World'`."
   ]
  },
  {
   "cell_type": "code",
   "execution_count": null,
   "metadata": {},
   "outputs": [],
   "source": [
    "print('Hello World')"
   ]
  },
  {
   "cell_type": "markdown",
   "metadata": {},
   "source": [
    "Now write some more complicated code, for example:\n",
    "\n",
    "`x = 5`<br>\n",
    "`y = 3`<br>\n",
    "`z = x + y`\n",
    "\n",
    "Again, press `Shift` + `Enter`."
   ]
  },
  {
   "cell_type": "code",
   "execution_count": null,
   "metadata": {},
   "outputs": [],
   "source": [
    "x = 5\n",
    "y = 3\n",
    "z = x+y"
   ]
  },
  {
   "cell_type": "markdown",
   "metadata": {},
   "source": [
    "There's no output, right? Why is that? Because these are all just computations that happen in the background. There is nothing to display. To get the value of `z` we still need to write `print(z)` in a code cell and press `Shift + Enter`:"
   ]
  },
  {
   "cell_type": "code",
   "execution_count": 2,
   "metadata": {},
   "outputs": [],
   "source": [
    "x.upper?"
   ]
  },
  {
   "cell_type": "markdown",
   "metadata": {},
   "source": [
    "# Understanding objects\n",
    "## Second header\n",
    "### Third header\n",
    "\n",
    "# Major point\n",
    "\n",
    "In Python *all variables are objects*. Just like in real life, they have certain **properties** (features) and we can apply certain **methods** (actions) on them. \n",
    "\n",
    "Consider the object `National University of Singapore (NUS)`\n",
    "\n",
    "What are some properties/features of `NUS`?\n",
    "1. Year of incorporation = 1905\n",
    "1. Number of students = 38,500\n",
    "5. Colors in the logo = Orange and Blue\n",
    "\n",
    "\n",
    "What are some methods/actions that you can apply to `NUS`?\n",
    "1. Add an additional student\n",
    "1. Open a new cafeteria\n",
    "1. Add an additional professor\n",
    "1. Build a new building\n"
   ]
  },
  {
   "cell_type": "markdown",
   "metadata": {},
   "source": [
    "Here is a simple example for a **string** (text) object:"
   ]
  },
  {
   "cell_type": "code",
   "execution_count": null,
   "metadata": {},
   "outputs": [],
   "source": [
    "x = 'National University of Singapore'"
   ]
  },
  {
   "cell_type": "markdown",
   "metadata": {},
   "source": [
    "**Properties** of the object `x`:"
   ]
  },
  {
   "cell_type": "code",
   "execution_count": null,
   "metadata": {},
   "outputs": [],
   "source": [
    "print(x.count('o'))"
   ]
  },
  {
   "cell_type": "code",
   "execution_count": null,
   "metadata": {},
   "outputs": [],
   "source": [
    "print(x.startswith('N'))"
   ]
  },
  {
   "cell_type": "markdown",
   "metadata": {},
   "source": [
    "**Methods** of the object `s`:"
   ]
  },
  {
   "cell_type": "code",
   "execution_count": null,
   "metadata": {},
   "outputs": [],
   "source": [
    "print(x.upper())"
   ]
  },
  {
   "cell_type": "code",
   "execution_count": null,
   "metadata": {},
   "outputs": [],
   "source": [
    "print(x.replace('of','for'))"
   ]
  },
  {
   "cell_type": "code",
   "execution_count": null,
   "metadata": {},
   "outputs": [],
   "source": [
    "x = x.upper()\n",
    "\n",
    "x"
   ]
  },
  {
   "cell_type": "markdown",
   "metadata": {},
   "source": [
    "I'm sure you're now wondering:\n",
    "\n",
    "**How can I possibly know all properties and methods of an object?**\n",
    "\n",
    "Well, that's where Jupyter does an *excellent* job.\n",
    "\n",
    "Just write `x.` below and press `Tab` on your keyboard."
   ]
  },
  {
   "cell_type": "code",
   "execution_count": null,
   "metadata": {},
   "outputs": [],
   "source": [
    "x.capitalize?"
   ]
  },
  {
   "cell_type": "markdown",
   "metadata": {},
   "source": [
    "... and it gets much better!\n",
    "\n",
    "If you see a property or a method that you don't understand, simply put a question mark `?` at the end of it, press `Shift + Enter`."
   ]
  },
  {
   "cell_type": "code",
   "execution_count": null,
   "metadata": {},
   "outputs": [],
   "source": [
    "x.capitalize?"
   ]
  },
  {
   "cell_type": "markdown",
   "metadata": {},
   "source": [
    "You're now ready to use the newly learned function:"
   ]
  },
  {
   "cell_type": "code",
   "execution_count": null,
   "metadata": {},
   "outputs": [],
   "source": [
    "x = 'london'\n",
    "print(x.capitalize())"
   ]
  },
  {
   "cell_type": "markdown",
   "metadata": {},
   "source": [
    "# Introduction\n",
    "\n",
    "## A preview of where we are heading\n",
    "\n",
    "Finally, let's jump ahead to the end of this *module*, and get to see something more interesting! Don't worry if the code looks strange to you at this point. We'll learn all commands one by one over the next weeks.\n",
    "\n",
    "I have already filled in the code in the next cells. Go ahead and run them by pressing `Shift + Enter` yet again."
   ]
  },
  {
   "cell_type": "code",
   "execution_count": null,
   "metadata": {},
   "outputs": [],
   "source": [
    "import pandas as pd\n",
    "import matplotlib.pyplot as plt\n",
    "%matplotlib inline\n",
    "d = pd.read_csv('Data/housing-and-development-board-resale-price-index-1q2009-100-quarterly.csv',\n",
    "                parse_dates=['quarter'])\n",
    "plt.plot(d['quarter'],d['index'],linestyle='-',color=(.18,0.31,0.31),linewidth=3)\n",
    "plt.title(\"Evolution of HDB Resale Prices over the Last Decades\")\n",
    "plt.ylabel('Index value')\n",
    "plt.xlabel('Year')\n",
    "plt.grid(color=(.8,.8,.8), linestyle=':')\n",
    "plt.show()"
   ]
  },
  {
   "cell_type": "markdown",
   "metadata": {},
   "source": [
    "Great. We're done for now!"
   ]
  },
  {
   "cell_type": "code",
   "execution_count": null,
   "metadata": {},
   "outputs": [],
   "source": []
  },
  {
   "cell_type": "code",
   "execution_count": null,
   "metadata": {},
   "outputs": [],
   "source": []
  },
  {
   "cell_type": "code",
   "execution_count": null,
   "metadata": {},
   "outputs": [],
   "source": []
  },
  {
   "cell_type": "code",
   "execution_count": null,
   "metadata": {},
   "outputs": [],
   "source": []
  },
  {
   "cell_type": "code",
   "execution_count": null,
   "metadata": {},
   "outputs": [],
   "source": []
  },
  {
   "cell_type": "markdown",
   "metadata": {},
   "source": [
    "File structure:\n",
    "    \n",
    "    Main folder: RE2708 \n",
    "        Inside: Data -> hdb file\n",
    "                Introduction.ipynb"
   ]
  },
  {
   "cell_type": "code",
   "execution_count": null,
   "metadata": {},
   "outputs": [],
   "source": []
  },
  {
   "cell_type": "code",
   "execution_count": null,
   "metadata": {},
   "outputs": [],
   "source": []
  },
  {
   "cell_type": "code",
   "execution_count": null,
   "metadata": {},
   "outputs": [],
   "source": []
  },
  {
   "cell_type": "code",
   "execution_count": null,
   "metadata": {},
   "outputs": [],
   "source": []
  },
  {
   "cell_type": "code",
   "execution_count": null,
   "metadata": {},
   "outputs": [],
   "source": []
  },
  {
   "cell_type": "code",
   "execution_count": null,
   "metadata": {},
   "outputs": [],
   "source": []
  }
 ],
 "metadata": {
  "kernelspec": {
   "display_name": "Python 3",
   "language": "python",
   "name": "python3"
  },
  "language_info": {
   "codemirror_mode": {
    "name": "ipython",
    "version": 3
   },
   "file_extension": ".py",
   "mimetype": "text/x-python",
   "name": "python",
   "nbconvert_exporter": "python",
   "pygments_lexer": "ipython3",
   "version": "3.6.5"
  }
 },
 "nbformat": 4,
 "nbformat_minor": 2
}
