{
 "cells": [
  {
   "cell_type": "markdown",
   "metadata": {
    "slideshow": {
     "slide_type": "slide"
    }
   },
   "source": [
    "<img align=left src=\"http://www.nus.edu.sg/templates/t3_nus2015/images/assets/logos/logo.png\" width=125>\n",
    "<br><br>\n",
    "\n",
    "# RE2708 Lecture 5\n",
    "\n",
    "## Discounted Cash Flow Model\n",
    "\n",
    "Dr. Cristian Badarinza"
   ]
  },
  {
   "cell_type": "markdown",
   "metadata": {
    "slideshow": {
     "slide_type": "slide"
    }
   },
   "source": [
    "## Structure of this Lecture\n",
    "\n",
    "- First part: **NPV and IRR (Monte Carlo Simulation)**\n",
    "\n",
    "- Second part: **Web Scraping**"
   ]
  },
  {
   "cell_type": "markdown",
   "metadata": {
    "slideshow": {
     "slide_type": "slide"
    }
   },
   "source": [
    "## Loading the libraries"
   ]
  },
  {
   "cell_type": "code",
   "execution_count": null,
   "metadata": {},
   "outputs": [],
   "source": [
    "import numpy as np\n",
    "from matplotlib import pyplot as plt"
   ]
  },
  {
   "cell_type": "markdown",
   "metadata": {
    "slideshow": {
     "slide_type": "slide"
    }
   },
   "source": [
    "## Case Study\n",
    "\n",
    "* Lecture 5 covers the implementation of financial calculation (NPV and IRR), as well as the simulation technique to understand the uncertainty sourrounding a given investment. \n",
    "\n",
    "* Let's start from a familiar case study:\n",
    "\n",
    "<img src=\"InterlaceApartment.PNG\">"
   ]
  },
  {
   "cell_type": "markdown",
   "metadata": {
    "slideshow": {
     "slide_type": "subslide"
    }
   },
   "source": [
    "## Investment opportunity\n",
    "\n",
    "See calculation in Excel sheet:\n",
    "\n",
    "<img src=\"CaseStudyCalculate.PNG\" width=75%>"
   ]
  },
  {
   "cell_type": "markdown",
   "metadata": {
    "slideshow": {
     "slide_type": "subslide"
    }
   },
   "source": [
    "## Can we do the same calculation in Python?"
   ]
  },
  {
   "cell_type": "markdown",
   "metadata": {},
   "source": [
    "First, set the assumptions right:"
   ]
  },
  {
   "cell_type": "code",
   "execution_count": null,
   "metadata": {},
   "outputs": [],
   "source": [
    "price = 3000000\n",
    "rent = 5700*12\n",
    "growth = 0.02 \n",
    "vacancy = 0.1\n",
    "rate = 0.02"
   ]
  },
  {
   "cell_type": "markdown",
   "metadata": {},
   "source": [
    "Second, build the cash flow series:"
   ]
  },
  {
   "cell_type": "code",
   "execution_count": null,
   "metadata": {},
   "outputs": [],
   "source": [
    "cf = np.arange(0,6)\n",
    "cf[0] = -price\n",
    "cf[1:5] = rent*(1-vacancy)\n",
    "cf[5] = price*(1+growth)**5\n",
    "print(cf)"
   ]
  },
  {
   "cell_type": "markdown",
   "metadata": {
    "slideshow": {
     "slide_type": "subslide"
    }
   },
   "source": [
    "## Calculate Net Present Value (NPV):"
   ]
  },
  {
   "cell_type": "code",
   "execution_count": null,
   "metadata": {
    "slideshow": {
     "slide_type": "-"
    }
   },
   "outputs": [],
   "source": [
    "npv = np.npv(rate,cf)\n",
    "\n",
    "print(\"NPV = $\" + str(npv.round()))"
   ]
  },
  {
   "cell_type": "markdown",
   "metadata": {},
   "source": [
    "## Calculate Internal Rate of Return (IRR):"
   ]
  },
  {
   "cell_type": "code",
   "execution_count": null,
   "metadata": {},
   "outputs": [],
   "source": [
    "irr = np.irr(cf)\n",
    "\n",
    "print(\"IRR = \" + str(round(irr*100,1)) + \"%\")"
   ]
  },
  {
   "cell_type": "markdown",
   "metadata": {},
   "source": [
    "Is this the end of the story? **No**, it is just the beginning. \n",
    "\n",
    "We want to understand the **optimistic** and **pessimistic** scenarios."
   ]
  },
  {
   "cell_type": "markdown",
   "metadata": {
    "slideshow": {
     "slide_type": "slide"
    }
   },
   "source": [
    "## Table of Contents\n",
    "\n",
    "### Discounted Cash Flow Model\n",
    "\n",
    "1. Simulating random numbers\n",
    "1. Calculating the distribution of NPVs and IRRs\n",
    "1. Working with percentiles\n",
    "\n",
    "### Web scraping\n",
    "\n",
    "Applications:\n",
    "1. Vacancy rates\n",
    "1. Skyscrapers\n",
    "1. Wikipedia\n"
   ]
  },
  {
   "cell_type": "markdown",
   "metadata": {},
   "source": [
    "## 1. Simulating random numbers"
   ]
  },
  {
   "cell_type": "markdown",
   "metadata": {},
   "source": [
    "The library `numpy` allows us to generate random numbers.\n",
    "\n",
    "For example, let's say that we want to generate a random number for the expected vacancy rate and we assume it can be anything between 0 and 1, i.e. between 0% and 100%:"
   ]
  },
  {
   "cell_type": "code",
   "execution_count": null,
   "metadata": {},
   "outputs": [],
   "source": [
    "vacancy = np.random.uniform(0,1)\n",
    "\n",
    "print(vacancy)"
   ]
  },
  {
   "cell_type": "markdown",
   "metadata": {},
   "source": [
    "Why not generate more scenarios? Let's try 2, 3, 4, ..., 100000 different scenarios."
   ]
  },
  {
   "cell_type": "code",
   "execution_count": null,
   "metadata": {},
   "outputs": [],
   "source": [
    "N = 2\n",
    "vacancy = np.random.uniform(0,1,N)\n",
    "\n",
    "print(vacancy)"
   ]
  },
  {
   "cell_type": "markdown",
   "metadata": {
    "slideshow": {
     "slide_type": "subslide"
    }
   },
   "source": [
    "A **histogram** is a good way to quickly visualize our 100000 scenarios:"
   ]
  },
  {
   "cell_type": "code",
   "execution_count": null,
   "metadata": {
    "slideshow": {
     "slide_type": "-"
    }
   },
   "outputs": [],
   "source": [
    "plt.hist(vacancy,30,edgecolor='black', linewidth=1)\n",
    "plt.title('Histogram of the simulated vacancy rate')\n",
    "plt.xlabel('Vacancy rate')\n",
    "plt.ylabel('Frequency')\n",
    "plt.show()"
   ]
  },
  {
   "cell_type": "markdown",
   "metadata": {
    "slideshow": {
     "slide_type": "subslide"
    }
   },
   "source": [
    "How about using a bell curve (i.e. a normal distribution)?"
   ]
  },
  {
   "cell_type": "code",
   "execution_count": null,
   "metadata": {},
   "outputs": [],
   "source": [
    "plt.hist(vacancy,30,edgecolor='black', linewidth=1)\n",
    "plt.title('Histogram of the simulated vacancy rate')\n",
    "plt.xlabel('Vacancy rate')\n",
    "plt.ylabel('Frequency')\n",
    "plt.show()"
   ]
  },
  {
   "cell_type": "markdown",
   "metadata": {},
   "source": [
    "Finally, what if we want the parameter to just have positive values?"
   ]
  },
  {
   "cell_type": "code",
   "execution_count": null,
   "metadata": {},
   "outputs": [],
   "source": [
    "rate = np.random.lognormal(-4,.5,N)\n",
    "\n",
    "plt.hist(rate,30,edgecolor='black', linewidth=1)\n",
    "plt.title('Histogram of the simulated discount rate')\n",
    "plt.xlabel('Discount rate')\n",
    "plt.ylabel('Frequency')\n",
    "plt.show()"
   ]
  },
  {
   "cell_type": "markdown",
   "metadata": {
    "slideshow": {
     "slide_type": "slide"
    }
   },
   "source": [
    "## 2. Calculating the distributions of NPVs and IRRs"
   ]
  },
  {
   "cell_type": "markdown",
   "metadata": {},
   "source": [
    "Let's now simulate different values for our three parameters:"
   ]
  },
  {
   "cell_type": "code",
   "execution_count": null,
   "metadata": {},
   "outputs": [],
   "source": [
    "N = 10000\n",
    "growth = np.random.normal(0.02,0.01,N)\n",
    "vacancy = np.random.uniform(0.8,1,N)\n",
    "rate = np.random.lognormal(-4,.5,N)"
   ]
  },
  {
   "cell_type": "markdown",
   "metadata": {
    "slideshow": {
     "slide_type": "subslide"
    }
   },
   "source": [
    "... and run a `for` loop to calculate NPVs and IRRs for all possible scenarios:"
   ]
  },
  {
   "cell_type": "code",
   "execution_count": null,
   "metadata": {},
   "outputs": [],
   "source": [
    "npv = np.arange(0,N)\n",
    "irr = np.arange(0,N,dtype=np.float)\n",
    "\n",
    "for i in np.arange(0,N):\n",
    "    cf = np.arange(0,6)\n",
    "    cf[0] = -price\n",
    "    cf[1:5] = rent*(1-vacancy[i])\n",
    "    cf[5] = price*(1+growth[i])**5    \n",
    "    \n",
    "    npv[i] = np.npv(rate[i],cf)\n",
    "    irr[i] = np.irr(cf)"
   ]
  },
  {
   "cell_type": "code",
   "execution_count": null,
   "metadata": {},
   "outputs": [],
   "source": [
    "plt.hist(irr,30,edgecolor='black', linewidth=1)\n",
    "plt.title('Histogram of the simulated vacancy rate')\n",
    "plt.xlabel('Vacancy rate')\n",
    "plt.ylabel('Frequency')\n",
    "plt.show()"
   ]
  },
  {
   "cell_type": "markdown",
   "metadata": {
    "slideshow": {
     "slide_type": "slide"
    }
   },
   "source": [
    "## 3. Working with percentiles"
   ]
  },
  {
   "cell_type": "markdown",
   "metadata": {},
   "source": [
    "The graphical representations above are very useful, but they still do not provide us a definitive answer to the question of what is a **pessimistic** and what is an **optimistic** scenario in terms of NPV and IRR.\n",
    "\n",
    "To this end, we can of course use `min` and `max`, but that is rather useless, because both the minimum and the maximum scenarios are highly unlikely. \n",
    "\n",
    "Instead, we have the function `percentile`, which indicates the part of the distribution that lies above/below a certain threshold.\n",
    "\n",
    "For example, let's find the worst NPV and IRR that occurs with a probability higher than 10%:"
   ]
  },
  {
   "cell_type": "code",
   "execution_count": null,
   "metadata": {},
   "outputs": [],
   "source": [
    "np.percentile(npv,.05)"
   ]
  },
  {
   "cell_type": "code",
   "execution_count": null,
   "metadata": {},
   "outputs": [],
   "source": [
    "np.percentile(irr,.05)"
   ]
  },
  {
   "cell_type": "markdown",
   "metadata": {
    "slideshow": {
     "slide_type": "subslide"
    }
   },
   "source": [
    "Similarly, we can find the most optimistic NPV and IRR, for the top part of the probability distribution:"
   ]
  },
  {
   "cell_type": "code",
   "execution_count": null,
   "metadata": {},
   "outputs": [],
   "source": [
    "np.percentile(npv,.95)"
   ]
  },
  {
   "cell_type": "code",
   "execution_count": null,
   "metadata": {},
   "outputs": [],
   "source": [
    "np.percentile(irr,.95)"
   ]
  },
  {
   "cell_type": "markdown",
   "metadata": {},
   "source": [
    "Let's now finally bring all simulated parameters in one plot:"
   ]
  },
  {
   "cell_type": "code",
   "execution_count": null,
   "metadata": {},
   "outputs": [],
   "source": [
    "fig, ax = plt.subplots(1,3,figsize=(12,3))\n",
    "ax[0].hist(vacancy,30,edgecolor='black', linewidth=1)\n",
    "ax[0].set_xlabel('Vacancy rate')\n",
    "ax[1].hist(growth,30,edgecolor='black', linewidth=1)\n",
    "ax[1].set_xlabel('Yearly price growth')\n",
    "ax[2].hist(rate,30,edgecolor='black', linewidth=1)\n",
    "ax[2].set_xlabel('Discount rate')\n",
    "fig.suptitle('Overview of simulated parameters',fontsize=15)\n",
    "plt.show()"
   ]
  },
  {
   "cell_type": "markdown",
   "metadata": {},
   "source": [
    "... and also plot the distribution of possible NPVs and IRRs:"
   ]
  },
  {
   "cell_type": "code",
   "execution_count": null,
   "metadata": {},
   "outputs": [],
   "source": [
    "fig, ax = plt.subplots(1,2,figsize=(11,4))\n",
    "npv = npv/1000\n",
    "ax[0].hist(npv,30,edgecolor='black', linewidth=1)\n",
    "ax[0].set_xlabel('NPV (thousands SGD)')\n",
    "ax[0].axvline(x=np.percentile(npv,1),linestyle='dotted',color=(.8,.5,.3))\n",
    "ax[0].axvline(x=np.percentile(npv,5),linestyle='dashed',color=(.8,.5,.3))\n",
    "ax[0].axvline(x=np.percentile(npv,95),linestyle='dashed',color=(.8,.5,.3))\n",
    "ax[0].axvline(x=np.percentile(npv,99),linestyle='dotted',color=(.8,.5,.3))\n",
    "ax[1].hist(irr,30,edgecolor='black', linewidth=1)\n",
    "ax[1].set_xlabel('IRR')\n",
    "ax[1].axvline(x=np.percentile(irr,1),linestyle='dotted',color=(.8,.5,.3))\n",
    "ax[1].axvline(x=np.percentile(irr,5),linestyle='dashed',color=(.8,.5,.3))\n",
    "ax[1].axvline(x=np.percentile(irr,95),linestyle='dashed',color=(.8,.5,.3))\n",
    "ax[1].axvline(x=np.percentile(irr,99),linestyle='dotted',color=(.8,.5,.3))\n",
    "fig.suptitle('Overview of optimistic and pessimistic scenarios',fontsize=15)\n",
    "plt.show()"
   ]
  },
  {
   "cell_type": "markdown",
   "metadata": {
    "slideshow": {
     "slide_type": "slide"
    }
   },
   "source": [
    "# Web Scraping"
   ]
  },
  {
   "cell_type": "markdown",
   "metadata": {},
   "source": [
    "## Loading the libraries"
   ]
  },
  {
   "cell_type": "code",
   "execution_count": null,
   "metadata": {},
   "outputs": [],
   "source": [
    "import requests\n",
    "import pandas as pd"
   ]
  },
  {
   "cell_type": "markdown",
   "metadata": {
    "slideshow": {
     "slide_type": "slide"
    }
   },
   "source": [
    "## Application 1: Data on world's highest buildings"
   ]
  },
  {
   "cell_type": "markdown",
   "metadata": {},
   "source": [
    "The most frquent application of web scraping consists of retrieving usable data from tables displayed on web pages.\n",
    "\n",
    "For example, let's download the list of the world's highest buildings:"
   ]
  },
  {
   "cell_type": "code",
   "execution_count": null,
   "metadata": {},
   "outputs": [],
   "source": [
    "m = requests.get('https://www.skyscrapercenter.com/buildings')\n",
    "df = pd.read_html(m.text)"
   ]
  },
  {
   "cell_type": "markdown",
   "metadata": {},
   "source": [
    "We have to remove some of the columns and rows that are not useful:"
   ]
  },
  {
   "cell_type": "code",
   "execution_count": null,
   "metadata": {},
   "outputs": [],
   "source": [
    "df = df[1]\n",
    "df.drop(columns=df.columns[[0,1,2]],inplace=True)"
   ]
  },
  {
   "cell_type": "markdown",
   "metadata": {
    "slideshow": {
     "slide_type": "subslide"
    }
   },
   "source": [
    "... and then the new data set is ready:"
   ]
  },
  {
   "cell_type": "code",
   "execution_count": null,
   "metadata": {},
   "outputs": [],
   "source": [
    "df.head()"
   ]
  },
  {
   "cell_type": "markdown",
   "metadata": {
    "slideshow": {
     "slide_type": "slide"
    }
   },
   "source": [
    "## Application 2: Data on protected green areas"
   ]
  },
  {
   "cell_type": "markdown",
   "metadata": {},
   "source": [
    "Finally, here is an example of a way to answer the following question: `What fraction of the Singapore land is a protected green area?`.\n",
    "\n",
    "To answer this question, we use Wikipedia to download a list of all protected areas:"
   ]
  },
  {
   "cell_type": "code",
   "execution_count": null,
   "metadata": {},
   "outputs": [],
   "source": [
    "m = requests.get('https://en.wikipedia.org/wiki/List_of_parks_in_Singapore')"
   ]
  },
  {
   "cell_type": "code",
   "execution_count": null,
   "metadata": {},
   "outputs": [],
   "source": [
    "df = pd.read_html(m.text)"
   ]
  },
  {
   "cell_type": "markdown",
   "metadata": {},
   "source": [
    "We clean the data and transform the relevant variable from a string to a number. We then sum up the land allocated to all parks, and divide this sum by the total country's area."
   ]
  },
  {
   "cell_type": "code",
   "execution_count": null,
   "metadata": {},
   "outputs": [],
   "source": [
    "df = df[0].drop(index=0,columns=0)\n",
    "df[3] = pd.to_numeric(df[3])\n",
    "df.head()"
   ]
  },
  {
   "cell_type": "code",
   "execution_count": null,
   "metadata": {},
   "outputs": [],
   "source": [
    "print('The green protected area accounts for ' + str(round((df[3].sum()/720000000)*100,2)) + '% of total land mass.')"
   ]
  }
 ],
 "metadata": {
  "celltoolbar": "Slideshow",
  "kernelspec": {
   "display_name": "Python 3",
   "language": "python",
   "name": "python3"
  },
  "language_info": {
   "codemirror_mode": {
    "name": "ipython",
    "version": 3
   },
   "file_extension": ".py",
   "mimetype": "text/x-python",
   "name": "python",
   "nbconvert_exporter": "python",
   "pygments_lexer": "ipython3",
   "version": "3.6.4"
  }
 },
 "nbformat": 4,
 "nbformat_minor": 2
}
